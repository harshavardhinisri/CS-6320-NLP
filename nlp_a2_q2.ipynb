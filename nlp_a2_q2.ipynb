{
  "cells": [
    {
      "cell_type": "markdown",
      "metadata": {
        "id": "view-in-github",
        "colab_type": "text"
      },
      "source": [
        "<a href=\"https://colab.research.google.com/github/harshavardhinisri/CS-6320-NLP/blob/main/nlp_a2_q2.ipynb\" target=\"_parent\"><img src=\"https://colab.research.google.com/assets/colab-badge.svg\" alt=\"Open In Colab\"/></a>"
      ]
    },
    {
      "cell_type": "code",
      "execution_count": null,
      "metadata": {
        "id": "I2SsW4c72HHM"
      },
      "outputs": [],
      "source": [
        "import numpy as np\n",
        "import torch\n",
        "import torch.nn as nn\n",
        "import torch.optim as optim\n",
        "import random\n",
        "import json\n",
        "import string\n",
        "from tqdm import tqdm\n",
        "import pickle\n",
        "import zipfile\n",
        "import os"
      ]
    },
    {
      "cell_type": "code",
      "execution_count": null,
      "metadata": {
        "id": "WoYUtgho-ssl"
      },
      "outputs": [],
      "source": [
        "zip_file_path = 'Data_Embedding.zip'\n",
        "extracted_dir_path = 'Data_Embedding'\n",
        "\n",
        "import os\n",
        "os.makedirs(extracted_dir_path, exist_ok=True)\n",
        "\n",
        "with zipfile.ZipFile(zip_file_path, 'r') as zip_ref:\n",
        "    zip_ref.extractall(extracted_dir_path)"
      ]
    },
    {
      "cell_type": "code",
      "execution_count": null,
      "metadata": {
        "id": "zqLndnjI5Vk4"
      },
      "outputs": [],
      "source": [
        "# a single RNN layer with tanh nonlinearity, which processes the input sequence\n",
        "# (inputs) and generates a sequence of hidden states (rnn_out).\n",
        "# The output of the RNN layer is summed across the time dimension to create a\n",
        "# final representation, which is then passed through a linear layer (W) followed\n",
        "# by a softmax function to produce the final predicted output vector. The model\n",
        "# also includes a method (compute_Loss) to calculate the negative log-likelihood\n",
        "# loss, commonly used in classification tasks.\n",
        "class RNN(nn.Module):\n",
        "    def __init__(self, input_dim, h):\n",
        "        super(RNN, self).__init__()\n",
        "        self.rnn = nn.RNN(input_dim, h, nonlinearity='tanh')\n",
        "        self.W = nn.Linear(h, 5)\n",
        "        self.softmax = nn.LogSoftmax(dim=1)\n",
        "        self.loss = nn.NLLLoss()\n",
        "\n",
        "    def compute_Loss(self, predicted_vector, gold_label):\n",
        "        return self.loss(predicted_vector, gold_label)\n",
        "\n",
        "    def forward(self, inputs):\n",
        "        rnn_out, _ = self.rnn(inputs)\n",
        "        output_representation = torch.sum(rnn_out, dim=0)\n",
        "        predicted_vector = self.softmax(self.W(output_representation))\n",
        "        return predicted_vector\n"
      ]
    },
    {
      "cell_type": "code",
      "execution_count": null,
      "metadata": {
        "id": "4d0p1F8l-lJR"
      },
      "outputs": [],
      "source": [
        "def load_data(file_path):\n",
        "    with open(file_path) as f:\n",
        "        data = json.load(f)\n",
        "    return [(elt[\"text\"].split(), int(elt[\"stars\"] - 1)) for elt in data]\n",
        "\n",
        "def preprocess_data(data, word_embedding):\n",
        "    processed_data = []\n",
        "    for words, label in data:\n",
        "        words = \" \".join(words).translate(str.maketrans(\"\", \"\", string.punctuation)).split()\n",
        "        vectors = [word_embedding.get(word.lower(), word_embedding['unk']) for word in words]\n",
        "        vectors = torch.tensor(vectors).view(len(vectors), 1, -1)\n",
        "        processed_data.append((vectors, label))\n",
        "    return processed_data\n"
      ]
    },
    {
      "cell_type": "code",
      "execution_count": null,
      "metadata": {
        "id": "SwfU3sJc-mZp"
      },
      "outputs": [],
      "source": [
        "def train_model(model, train_data, optimizer, minibatch_size):\n",
        "    model.train()\n",
        "    total_loss, total_correct, total = 0, 0, 0\n",
        "    random.shuffle(train_data)\n",
        "    for minibatch_index in tqdm(range(len(train_data) // minibatch_size)):\n",
        "        optimizer.zero_grad()\n",
        "        minibatch_loss = None\n",
        "        for example_index in range(minibatch_size):\n",
        "            input_vector, gold_label = train_data[minibatch_index * minibatch_size + example_index]\n",
        "            output = model(input_vector)\n",
        "            predicted_label = torch.argmax(output)\n",
        "            total_correct += int(predicted_label == gold_label)\n",
        "            total += 1\n",
        "            example_loss = model.compute_Loss(output.view(1, -1), torch.tensor([gold_label]))\n",
        "            minibatch_loss = example_loss if minibatch_loss is None else minibatch_loss + example_loss\n",
        "        minibatch_loss = minibatch_loss / minibatch_size\n",
        "        total_loss += minibatch_loss.item()\n",
        "        minibatch_loss.backward()\n",
        "        optimizer.step()\n",
        "    return total_correct / total\n",
        "\n",
        "def evaluate_model(model, data, minibatch_size):\n",
        "    model.eval()\n",
        "    total_correct, total = 0, 0\n",
        "    for minibatch_index in tqdm(range(len(data) // minibatch_size)):\n",
        "        for example_index in range(minibatch_size):\n",
        "            input_vector, gold_label = data[minibatch_index * minibatch_size + example_index]\n",
        "            output = model(input_vector)\n",
        "            predicted_label = torch.argmax(output)\n",
        "            total_correct += int(predicted_label == gold_label)\n",
        "            total += 1\n",
        "    return total_correct / total\n"
      ]
    },
    {
      "cell_type": "code",
      "execution_count": null,
      "metadata": {
        "colab": {
          "base_uri": "https://localhost:8080/"
        },
        "id": "XAdD6n2KVWNx",
        "outputId": "c1014a46-27ce-4369-eb9f-d00835597c4f"
      },
      "outputs": [
        {
          "name": "stderr",
          "output_type": "stream",
          "text": [
            "<ipython-input-17-b7a13e050592>:11: UserWarning: Creating a tensor from a list of numpy.ndarrays is extremely slow. Please consider converting the list to a single numpy.ndarray with numpy.array() before converting to a tensor. (Triggered internally at ../torch/csrc/utils/tensor_new.cpp:261.)\n",
            "  vectors = torch.tensor(vectors).view(len(vectors), 1, -1)\n",
            "100%|██████████| 1000/1000 [03:15<00:00,  5.11it/s]\n",
            "100%|██████████| 50/50 [00:03<00:00, 15.80it/s]\n"
          ]
        },
        {
          "name": "stdout",
          "output_type": "stream",
          "text": [
            "Epoch 1: Train Accuracy: 0.31, Validation Accuracy: 0.36\n"
          ]
        },
        {
          "name": "stderr",
          "output_type": "stream",
          "text": [
            "100%|██████████| 1000/1000 [03:16<00:00,  5.08it/s]\n",
            "100%|██████████| 50/50 [00:03<00:00, 16.40it/s]\n"
          ]
        },
        {
          "name": "stdout",
          "output_type": "stream",
          "text": [
            "Epoch 2: Train Accuracy: 0.28, Validation Accuracy: 0.30\n"
          ]
        },
        {
          "name": "stderr",
          "output_type": "stream",
          "text": [
            "100%|██████████| 1000/1000 [03:16<00:00,  5.08it/s]\n",
            "100%|██████████| 50/50 [00:03<00:00, 16.40it/s]\n"
          ]
        },
        {
          "name": "stdout",
          "output_type": "stream",
          "text": [
            "Epoch 3: Train Accuracy: 0.29, Validation Accuracy: 0.28\n"
          ]
        },
        {
          "name": "stderr",
          "output_type": "stream",
          "text": [
            "100%|██████████| 1000/1000 [03:17<00:00,  5.06it/s]\n",
            "100%|██████████| 50/50 [00:03<00:00, 16.57it/s]\n"
          ]
        },
        {
          "name": "stdout",
          "output_type": "stream",
          "text": [
            "Epoch 4: Train Accuracy: 0.31, Validation Accuracy: 0.34\n"
          ]
        },
        {
          "name": "stderr",
          "output_type": "stream",
          "text": [
            "100%|██████████| 1000/1000 [03:16<00:00,  5.09it/s]\n",
            "100%|██████████| 50/50 [00:03<00:00, 16.64it/s]\n"
          ]
        },
        {
          "name": "stdout",
          "output_type": "stream",
          "text": [
            "Epoch 5: Train Accuracy: 0.30, Validation Accuracy: 0.43\n"
          ]
        },
        {
          "name": "stderr",
          "output_type": "stream",
          "text": [
            "100%|██████████| 1000/1000 [03:17<00:00,  5.07it/s]\n",
            "100%|██████████| 50/50 [00:03<00:00, 16.32it/s]\n"
          ]
        },
        {
          "name": "stdout",
          "output_type": "stream",
          "text": [
            "Epoch 6: Train Accuracy: 0.32, Validation Accuracy: 0.34\n"
          ]
        },
        {
          "name": "stderr",
          "output_type": "stream",
          "text": [
            "100%|██████████| 1000/1000 [03:16<00:00,  5.08it/s]\n",
            "100%|██████████| 50/50 [00:03<00:00, 16.39it/s]\n"
          ]
        },
        {
          "name": "stdout",
          "output_type": "stream",
          "text": [
            "Epoch 7: Train Accuracy: 0.31, Validation Accuracy: 0.43\n"
          ]
        },
        {
          "name": "stderr",
          "output_type": "stream",
          "text": [
            "100%|██████████| 1000/1000 [03:16<00:00,  5.10it/s]\n",
            "100%|██████████| 50/50 [00:03<00:00, 16.52it/s]\n"
          ]
        },
        {
          "name": "stdout",
          "output_type": "stream",
          "text": [
            "Epoch 8: Train Accuracy: 0.32, Validation Accuracy: 0.30\n"
          ]
        },
        {
          "name": "stderr",
          "output_type": "stream",
          "text": [
            "100%|██████████| 1000/1000 [03:16<00:00,  5.08it/s]\n",
            "100%|██████████| 50/50 [00:03<00:00, 16.52it/s]\n"
          ]
        },
        {
          "name": "stdout",
          "output_type": "stream",
          "text": [
            "Epoch 9: Train Accuracy: 0.34, Validation Accuracy: 0.38\n"
          ]
        },
        {
          "name": "stderr",
          "output_type": "stream",
          "text": [
            "100%|██████████| 1000/1000 [03:20<00:00,  4.99it/s]\n",
            "100%|██████████| 50/50 [00:03<00:00, 16.25it/s]\n"
          ]
        },
        {
          "name": "stdout",
          "output_type": "stream",
          "text": [
            "Epoch 10: Train Accuracy: 0.32, Validation Accuracy: 0.35\n"
          ]
        },
        {
          "name": "stderr",
          "output_type": "stream",
          "text": [
            "100%|██████████| 50/50 [00:02<00:00, 20.61it/s]"
          ]
        },
        {
          "name": "stdout",
          "output_type": "stream",
          "text": [
            "Test Accuracy: 0.18\n"
          ]
        },
        {
          "name": "stderr",
          "output_type": "stream",
          "text": [
            "\n"
          ]
        }
      ],
      "source": [
        "# Setting hyperparameters (like hidden dimensions and number of epochs),\n",
        "# loading and preprocessing data (including converting text to vector\n",
        "# representations using a pre-trained word embedding).\n",
        "# The RNN model is then trained across multiple epochs on the\n",
        "#  training data, optimizing its parameters with the Adam optimizer,\n",
        "#  and its performance is evaluated on validation data after each epoch.\n",
        "\n",
        "hidden_dim = 128\n",
        "epochs = 10\n",
        "train_data_file = 'Data_Embedding/training.json'\n",
        "val_data_file = 'Data_Embedding/validation.json'\n",
        "test_data_file = 'Data_Embedding/test.json'\n",
        "minibatch_size = 16\n",
        "\n",
        "# Load and preprocess data\n",
        "word_embedding = pickle.load(open('Data_Embedding/word_embedding.pkl', 'rb'))\n",
        "train_data = preprocess_data(load_data(train_data_file), word_embedding)\n",
        "val_data = preprocess_data(load_data(val_data_file), word_embedding)\n",
        "test_data = preprocess_data(load_data(test_data_file), word_embedding)\n",
        "\n",
        "# Initialize model and optimizer\n",
        "model = RNN(50, hidden_dim)\n",
        "optimizer = optim.Adam(model.parameters(), lr=0.01)\n",
        "\n",
        "# Training and Validation\n",
        "for epoch in range(epochs):\n",
        "    train_accuracy = train_model(model, train_data, optimizer, minibatch_size)\n",
        "    val_accuracy = evaluate_model(model, val_data, minibatch_size)\n",
        "    print(f\"Epoch {epoch + 1}: Train Accuracy: {train_accuracy:.2f}, Validation Accuracy: {val_accuracy:.2f}\")\n",
        "\n",
        "# Testing\n",
        "test_accuracy = evaluate_model(model, test_data, minibatch_size)\n",
        "print(f\"Test Accuracy: {test_accuracy:.2f}\")\n"
      ]
    },
    {
      "cell_type": "code",
      "execution_count": null,
      "metadata": {
        "id": "0Lep1Og-DQ6q"
      },
      "outputs": [],
      "source": [
        "# The RNN layer now includes a dropout mechanism (dropout=dropout_rate).After\n",
        "# the RNN layer and before the linear transformation (self.W), layer\n",
        "# normalization (self.layer_norm) is applied.\n",
        "class RNN(nn.Module):\n",
        "    def __init__(self, input_dim, h, dropout_rate=0.5):\n",
        "        super(RNN, self).__init__()\n",
        "        self.rnn = nn.RNN(input_dim, h, nonlinearity='tanh', dropout=dropout_rate)\n",
        "        self.layer_norm = nn.LayerNorm(h)  # Using layer normalization\n",
        "        self.W = nn.Linear(h, 5)\n",
        "        self.softmax = nn.LogSoftmax(dim=1)\n",
        "        self.loss = nn.NLLLoss()\n",
        "\n",
        "    def compute_Loss(self, predicted_vector, gold_label):\n",
        "        return self.loss(predicted_vector, gold_label)\n",
        "\n",
        "    def forward(self, inputs):\n",
        "        rnn_out, _ = self.rnn(inputs)\n",
        "        output_representation = torch.sum(rnn_out, dim=0)\n",
        "        output_representation = self.layer_norm(output_representation)  # Apply layer normalization\n",
        "        predicted_vector = self.softmax(self.W(output_representation))\n",
        "        return predicted_vector\n"
      ]
    },
    {
      "cell_type": "code",
      "execution_count": null,
      "metadata": {
        "id": "59ACVVC2LWid"
      },
      "outputs": [],
      "source": [
        "def load_data(file_path):\n",
        "    with open(file_path) as f:\n",
        "        data = json.load(f)\n",
        "    return [(elt[\"text\"].split(), int(elt[\"stars\"] - 1)) for elt in data]\n",
        "\n",
        "def preprocess_data(data, word_embedding):\n",
        "    processed_data = []\n",
        "    for words, label in data:\n",
        "        words = \" \".join(words).translate(str.maketrans(\"\", \"\", string.punctuation)).split()\n",
        "        vectors = [word_embedding.get(word.lower(), word_embedding['unk']) for word in words]\n",
        "        vectors = torch.tensor(vectors).view(len(vectors), 1, -1)\n",
        "        processed_data.append((vectors, label))\n",
        "    return processed_data\n"
      ]
    },
    {
      "cell_type": "code",
      "execution_count": null,
      "metadata": {
        "id": "j2fZk9k7LYqL"
      },
      "outputs": [],
      "source": [
        "def train_model(model, train_data, optimizer, minibatch_size, clip_value=5):\n",
        "    model.train()\n",
        "    total_loss, total_correct, total = 0, 0, 0\n",
        "    random.shuffle(train_data)\n",
        "    for minibatch_index in tqdm(range((len(train_data) + minibatch_size - 1) // minibatch_size)):  # Ensure all data is used\n",
        "        optimizer.zero_grad()\n",
        "        minibatch_loss = None\n",
        "        for example_index in range(minibatch_size):\n",
        "            actual_index = minibatch_index * minibatch_size + example_index\n",
        "            if actual_index >= len(train_data):\n",
        "                break  # Skip if we've passed the end of the dataset\n",
        "            input_vector, gold_label = train_data[actual_index]\n",
        "            output = model(input_vector)\n",
        "            predicted_label = torch.argmax(output)\n",
        "            total_correct += int(predicted_label == gold_label)\n",
        "            total += 1\n",
        "            example_loss = model.compute_Loss(output.view(1, -1), torch.tensor([gold_label]))\n",
        "            minibatch_loss = example_loss if minibatch_loss is None else minibatch_loss + example_loss\n",
        "        if minibatch_loss is not None:\n",
        "            minibatch_loss = minibatch_loss / minibatch_size\n",
        "            total_loss += minibatch_loss.item()\n",
        "            minibatch_loss.backward()\n",
        "            nn.utils.clip_grad_norm_(model.parameters(), clip_value)\n",
        "            optimizer.step()\n",
        "    return total_correct / total if total > 0 else 0\n",
        "\n",
        "def evaluate_model(model, data, minibatch_size):\n",
        "    model.eval()\n",
        "    total_correct, total = 0, 0\n",
        "    for minibatch_index in tqdm(range((len(data) + minibatch_size - 1) // minibatch_size)):\n",
        "        for example_index in range(minibatch_size):\n",
        "            actual_index = minibatch_index * minibatch_size + example_index\n",
        "            if actual_index >= len(data):\n",
        "                break\n",
        "            input_vector, gold_label = data[actual_index]\n",
        "            output = model(input_vector)\n",
        "            predicted_label = torch.argmax(output)\n",
        "            total_correct += int(predicted_label == gold_label)\n",
        "            total += 1\n",
        "    return total_correct / total if total > 0 else 0\n"
      ]
    },
    {
      "cell_type": "code",
      "execution_count": null,
      "metadata": {
        "colab": {
          "base_uri": "https://localhost:8080/"
        },
        "id": "vr0TEK_bLa77",
        "outputId": "f6583766-5201-4278-8415-1db9bcdb2099"
      },
      "outputs": [
        {
          "name": "stderr",
          "output_type": "stream",
          "text": [
            "100%|██████████| 1000/1000 [04:43<00:00,  3.53it/s]\n",
            "100%|██████████| 50/50 [00:03<00:00, 14.14it/s]\n"
          ]
        },
        {
          "name": "stdout",
          "output_type": "stream",
          "text": [
            "Epoch 1: Train Acc: 0.28, Val Acc: 0.43\n"
          ]
        },
        {
          "name": "stderr",
          "output_type": "stream",
          "text": [
            "100%|██████████| 1000/1000 [04:40<00:00,  3.56it/s]\n",
            "100%|██████████| 50/50 [00:03<00:00, 14.14it/s]\n"
          ]
        },
        {
          "name": "stdout",
          "output_type": "stream",
          "text": [
            "Epoch 2: Train Acc: 0.37, Val Acc: 0.38\n"
          ]
        },
        {
          "name": "stderr",
          "output_type": "stream",
          "text": [
            "100%|██████████| 1000/1000 [04:39<00:00,  3.57it/s]\n",
            "100%|██████████| 50/50 [00:03<00:00, 13.79it/s]\n"
          ]
        },
        {
          "name": "stdout",
          "output_type": "stream",
          "text": [
            "Epoch 3: Train Acc: 0.37, Val Acc: 0.45\n"
          ]
        },
        {
          "name": "stderr",
          "output_type": "stream",
          "text": [
            "100%|██████████| 1000/1000 [04:42<00:00,  3.54it/s]\n",
            "100%|██████████| 50/50 [00:03<00:00, 13.63it/s]\n"
          ]
        },
        {
          "name": "stdout",
          "output_type": "stream",
          "text": [
            "Epoch 4: Train Acc: 0.40, Val Acc: 0.45\n"
          ]
        },
        {
          "name": "stderr",
          "output_type": "stream",
          "text": [
            "100%|██████████| 1000/1000 [04:38<00:00,  3.60it/s]\n",
            "100%|██████████| 50/50 [00:03<00:00, 13.15it/s]\n"
          ]
        },
        {
          "name": "stdout",
          "output_type": "stream",
          "text": [
            "Epoch 5: Train Acc: 0.40, Val Acc: 0.46\n"
          ]
        },
        {
          "name": "stderr",
          "output_type": "stream",
          "text": [
            "100%|██████████| 1000/1000 [04:37<00:00,  3.60it/s]\n",
            "100%|██████████| 50/50 [00:03<00:00, 14.13it/s]\n"
          ]
        },
        {
          "name": "stdout",
          "output_type": "stream",
          "text": [
            "Epoch 6: Train Acc: 0.41, Val Acc: 0.45\n"
          ]
        },
        {
          "name": "stderr",
          "output_type": "stream",
          "text": [
            "100%|██████████| 1000/1000 [04:33<00:00,  3.66it/s]\n",
            "100%|██████████| 50/50 [00:03<00:00, 14.07it/s]\n"
          ]
        },
        {
          "name": "stdout",
          "output_type": "stream",
          "text": [
            "Epoch 7: Train Acc: 0.40, Val Acc: 0.42\n"
          ]
        },
        {
          "name": "stderr",
          "output_type": "stream",
          "text": [
            "100%|██████████| 1000/1000 [04:36<00:00,  3.62it/s]\n",
            "100%|██████████| 50/50 [00:03<00:00, 13.98it/s]\n"
          ]
        },
        {
          "name": "stdout",
          "output_type": "stream",
          "text": [
            "Epoch 8: Train Acc: 0.41, Val Acc: 0.40\n"
          ]
        },
        {
          "name": "stderr",
          "output_type": "stream",
          "text": [
            "100%|██████████| 1000/1000 [04:38<00:00,  3.60it/s]\n",
            "100%|██████████| 50/50 [00:04<00:00, 12.37it/s]\n"
          ]
        },
        {
          "name": "stdout",
          "output_type": "stream",
          "text": [
            "Epoch 9: Train Acc: 0.41, Val Acc: 0.53\n"
          ]
        },
        {
          "name": "stderr",
          "output_type": "stream",
          "text": [
            "100%|██████████| 1000/1000 [04:35<00:00,  3.63it/s]\n",
            "100%|██████████| 50/50 [00:03<00:00, 13.83it/s]\n"
          ]
        },
        {
          "name": "stdout",
          "output_type": "stream",
          "text": [
            "Epoch 10: Train Acc: 0.41, Val Acc: 0.50\n"
          ]
        },
        {
          "name": "stderr",
          "output_type": "stream",
          "text": [
            "100%|██████████| 50/50 [00:02<00:00, 17.82it/s]"
          ]
        },
        {
          "name": "stdout",
          "output_type": "stream",
          "text": [
            "Test Accuracy: 0.34\n"
          ]
        },
        {
          "name": "stderr",
          "output_type": "stream",
          "text": [
            "\n"
          ]
        }
      ],
      "source": [
        "# Includes a dropout mechanism with a rate of 0.5. he optimizer used\n",
        "# here is Adam with an additional weight decay parameter (weight_decay=1e-4).\n",
        "\n",
        "hidden_dim = 128\n",
        "epochs = 10\n",
        "dropout_rate = 0.5\n",
        "learning_rate = 0.01\n",
        "weight_decay = 1e-4\n",
        "minibatch_size = 16\n",
        "\n",
        "# Load data\n",
        "word_embedding = pickle.load(open('Data_Embedding/word_embedding.pkl', 'rb'))\n",
        "train_data = preprocess_data(load_data('Data_Embedding/training.json'), word_embedding)\n",
        "val_data = preprocess_data(load_data('Data_Embedding/validation.json'), word_embedding)\n",
        "test_data = preprocess_data(load_data('Data_Embedding/test.json'), word_embedding)\n",
        "\n",
        "# Initialize model and optimizer\n",
        "model = RNN(50, hidden_dim, dropout_rate)\n",
        "optimizer = optim.Adam(model.parameters(), lr=learning_rate, weight_decay=weight_decay)\n",
        "# Training and validation\n",
        "for epoch in range(epochs):\n",
        "    train_accuracy = train_model(model, train_data, optimizer, minibatch_size)\n",
        "    val_accuracy = evaluate_model(model, val_data, minibatch_size)\n",
        "    print(f\"Epoch {epoch + 1}: Train Acc: {train_accuracy:.2f}, Val Acc: {val_accuracy:.2f}\")\n",
        "\n",
        "# Testing\n",
        "test_accuracy = evaluate_model(model, test_data, minibatch_size)\n",
        "print(f\"Test Accuracy: {test_accuracy:.2f}\")"
      ]
    },
    {
      "cell_type": "code",
      "execution_count": null,
      "metadata": {
        "id": "ZWQvZwzuNvlZ"
      },
      "outputs": [],
      "source": [
        "# The model now includes multiple RNN layers (num_layers=2), compared to the single-layer RNN in the previous version.\n",
        "# The addition of a dropout mechanism (dropout=dropout_rate) in between the RNN layers helps prevent overfitting.\n",
        "class ImprovedRNN(nn.Module):\n",
        "    def __init__(self, input_dim, hidden_dim, num_layers=2, dropout_rate=0.5):\n",
        "        super(ImprovedRNN, self).__init__()\n",
        "        self.rnn = nn.RNN(input_dim, hidden_dim, num_layers=num_layers, dropout=dropout_rate, batch_first=True)\n",
        "        self.fc = nn.Linear(hidden_dim, 5)\n",
        "        self.softmax = nn.LogSoftmax(dim=1)\n",
        "        self.loss = nn.NLLLoss()\n",
        "\n",
        "    def compute_Loss(self, predicted_vector, gold_label):\n",
        "        return self.loss(predicted_vector, gold_label)\n",
        "\n",
        "    def forward(self, inputs):\n",
        "        rnn_out, _ = self.rnn(inputs)\n",
        "        output_representation = torch.sum(rnn_out, dim=0)\n",
        "        predicted_vector = self.softmax(self.fc(output_representation))\n",
        "        return predicted_vector"
      ]
    },
    {
      "cell_type": "code",
      "execution_count": null,
      "metadata": {
        "colab": {
          "base_uri": "https://localhost:8080/"
        },
        "id": "3mkuspfCQdrn",
        "outputId": "910e62cc-3d21-41af-ff12-8b9e22df1efb"
      },
      "outputs": [
        {
          "output_type": "stream",
          "name": "stderr",
          "text": [
            "100%|██████████| 500/500 [00:34<00:00, 14.53it/s]\n",
            "100%|██████████| 25/25 [00:00<00:00, 33.90it/s]\n"
          ]
        },
        {
          "output_type": "stream",
          "name": "stdout",
          "text": [
            "Epoch 1: Train Acc: 0.35, Val Acc: 0.46\n"
          ]
        },
        {
          "output_type": "stream",
          "name": "stderr",
          "text": [
            "100%|██████████| 500/500 [00:34<00:00, 14.58it/s]\n",
            "100%|██████████| 25/25 [00:00<00:00, 33.23it/s]\n"
          ]
        },
        {
          "output_type": "stream",
          "name": "stdout",
          "text": [
            "Epoch 2: Train Acc: 0.39, Val Acc: 0.46\n"
          ]
        },
        {
          "output_type": "stream",
          "name": "stderr",
          "text": [
            "100%|██████████| 500/500 [00:34<00:00, 14.58it/s]\n",
            "100%|██████████| 25/25 [00:00<00:00, 33.97it/s]\n"
          ]
        },
        {
          "output_type": "stream",
          "name": "stdout",
          "text": [
            "Epoch 3: Train Acc: 0.40, Val Acc: 0.43\n"
          ]
        },
        {
          "output_type": "stream",
          "name": "stderr",
          "text": [
            "100%|██████████| 500/500 [00:35<00:00, 14.13it/s]\n",
            "100%|██████████| 25/25 [00:00<00:00, 33.29it/s]\n"
          ]
        },
        {
          "output_type": "stream",
          "name": "stdout",
          "text": [
            "Epoch 4: Train Acc: 0.39, Val Acc: 0.31\n"
          ]
        },
        {
          "output_type": "stream",
          "name": "stderr",
          "text": [
            "100%|██████████| 500/500 [00:34<00:00, 14.29it/s]\n",
            "100%|██████████| 25/25 [00:00<00:00, 33.57it/s]\n"
          ]
        },
        {
          "output_type": "stream",
          "name": "stdout",
          "text": [
            "Epoch 5: Train Acc: 0.40, Val Acc: 0.37\n"
          ]
        },
        {
          "output_type": "stream",
          "name": "stderr",
          "text": [
            "100%|██████████| 500/500 [00:34<00:00, 14.29it/s]\n",
            "100%|██████████| 25/25 [00:00<00:00, 34.34it/s]\n"
          ]
        },
        {
          "output_type": "stream",
          "name": "stdout",
          "text": [
            "Epoch 6: Train Acc: 0.40, Val Acc: 0.44\n"
          ]
        },
        {
          "output_type": "stream",
          "name": "stderr",
          "text": [
            "100%|██████████| 500/500 [00:34<00:00, 14.36it/s]\n",
            "100%|██████████| 25/25 [00:00<00:00, 33.82it/s]\n"
          ]
        },
        {
          "output_type": "stream",
          "name": "stdout",
          "text": [
            "Epoch 7: Train Acc: 0.40, Val Acc: 0.47\n"
          ]
        },
        {
          "output_type": "stream",
          "name": "stderr",
          "text": [
            "100%|██████████| 500/500 [00:34<00:00, 14.40it/s]\n",
            "100%|██████████| 25/25 [00:00<00:00, 32.86it/s]\n"
          ]
        },
        {
          "output_type": "stream",
          "name": "stdout",
          "text": [
            "Epoch 8: Train Acc: 0.39, Val Acc: 0.50\n"
          ]
        },
        {
          "output_type": "stream",
          "name": "stderr",
          "text": [
            "100%|██████████| 500/500 [00:34<00:00, 14.42it/s]\n",
            "100%|██████████| 25/25 [00:00<00:00, 32.43it/s]\n"
          ]
        },
        {
          "output_type": "stream",
          "name": "stdout",
          "text": [
            "Epoch 9: Train Acc: 0.40, Val Acc: 0.41\n"
          ]
        },
        {
          "output_type": "stream",
          "name": "stderr",
          "text": [
            "100%|██████████| 500/500 [00:34<00:00, 14.39it/s]\n",
            "100%|██████████| 25/25 [00:00<00:00, 34.37it/s]\n"
          ]
        },
        {
          "output_type": "stream",
          "name": "stdout",
          "text": [
            "Epoch 10: Train Acc: 0.41, Val Acc: 0.43\n"
          ]
        },
        {
          "output_type": "stream",
          "name": "stderr",
          "text": [
            "100%|██████████| 500/500 [00:34<00:00, 14.29it/s]\n",
            "100%|██████████| 25/25 [00:00<00:00, 33.67it/s]\n"
          ]
        },
        {
          "output_type": "stream",
          "name": "stdout",
          "text": [
            "Epoch 11: Train Acc: 0.41, Val Acc: 0.45\n"
          ]
        },
        {
          "output_type": "stream",
          "name": "stderr",
          "text": [
            "100%|██████████| 500/500 [00:34<00:00, 14.39it/s]\n",
            "100%|██████████| 25/25 [00:00<00:00, 33.27it/s]\n"
          ]
        },
        {
          "output_type": "stream",
          "name": "stdout",
          "text": [
            "Epoch 12: Train Acc: 0.40, Val Acc: 0.42\n"
          ]
        },
        {
          "output_type": "stream",
          "name": "stderr",
          "text": [
            "100%|██████████| 500/500 [00:34<00:00, 14.39it/s]\n",
            "100%|██████████| 25/25 [00:00<00:00, 33.60it/s]\n"
          ]
        },
        {
          "output_type": "stream",
          "name": "stdout",
          "text": [
            "Epoch 13: Train Acc: 0.42, Val Acc: 0.48\n"
          ]
        },
        {
          "output_type": "stream",
          "name": "stderr",
          "text": [
            "100%|██████████| 500/500 [00:34<00:00, 14.38it/s]\n",
            "100%|██████████| 25/25 [00:00<00:00, 33.68it/s]\n"
          ]
        },
        {
          "output_type": "stream",
          "name": "stdout",
          "text": [
            "Epoch 14: Train Acc: 0.41, Val Acc: 0.36\n"
          ]
        },
        {
          "output_type": "stream",
          "name": "stderr",
          "text": [
            "100%|██████████| 500/500 [00:34<00:00, 14.49it/s]\n",
            "100%|██████████| 25/25 [00:00<00:00, 34.15it/s]\n"
          ]
        },
        {
          "output_type": "stream",
          "name": "stdout",
          "text": [
            "Epoch 15: Train Acc: 0.42, Val Acc: 0.47\n"
          ]
        },
        {
          "output_type": "stream",
          "name": "stderr",
          "text": [
            "100%|██████████| 25/25 [00:00<00:00, 36.69it/s]"
          ]
        },
        {
          "output_type": "stream",
          "name": "stdout",
          "text": [
            "Test Accuracy: 0.43\n"
          ]
        },
        {
          "output_type": "stream",
          "name": "stderr",
          "text": [
            "\n"
          ]
        }
      ],
      "source": [
        "# Set hyperparameters and file paths\n",
        "hidden_dim = 128\n",
        "epochs = 15  # Increased epochs\n",
        "dropout_rate = 0.5\n",
        "learning_rate = 0.005  # Adjusted learning rate\n",
        "weight_decay = 1e-4\n",
        "minibatch_size = 32  # Adjusted minibatch size\n",
        "\n",
        "# Load and preprocess data\n",
        "word_embedding = pickle.load(open('Data_Embedding/word_embedding.pkl', 'rb'))\n",
        "train_data = preprocess_data(load_data('Data_Embedding/training.json'), word_embedding)\n",
        "val_data = preprocess_data(load_data('Data_Embedding/validation.json'), word_embedding)\n",
        "test_data = preprocess_data(load_data('Data_Embedding/test.json'), word_embedding)\n",
        "\n",
        "# Initialize improved model and optimizer\n",
        "model = ImprovedRNN(50, hidden_dim, num_layers=2, dropout_rate=dropout_rate)\n",
        "optimizer = optim.Adam(model.parameters(), lr=learning_rate, weight_decay=weight_decay)\n",
        "\n",
        "# Training and Validation\n",
        "for epoch in range(epochs):\n",
        "    train_accuracy = train_model(model, train_data, optimizer, minibatch_size)\n",
        "    val_accuracy = evaluate_model(model, val_data, minibatch_size)\n",
        "    print(f\"Epoch {epoch + 1}: Train Acc: {train_accuracy:.2f}, Val Acc: {val_accuracy:.2f}\")\n",
        "\n",
        "# Testing\n",
        "test_accuracy = evaluate_model(model, test_data, minibatch_size)\n",
        "print(f\"Test Accuracy: {test_accuracy:.2f}\")"
      ]
    },
    {
      "cell_type": "code",
      "execution_count": null,
      "metadata": {
        "id": "yDOeRLGpQfn-"
      },
      "outputs": [],
      "source": []
    },
    {
      "cell_type": "code",
      "execution_count": null,
      "metadata": {
        "id": "zo3RcU0OQhc8"
      },
      "outputs": [],
      "source": []
    },
    {
      "cell_type": "code",
      "execution_count": null,
      "metadata": {
        "id": "aIcX4n3pQkr6"
      },
      "outputs": [],
      "source": []
    },
    {
      "cell_type": "code",
      "execution_count": null,
      "metadata": {
        "id": "p4j7QvefQm3d"
      },
      "outputs": [],
      "source": []
    },
    {
      "cell_type": "code",
      "execution_count": null,
      "metadata": {
        "id": "BmbJJ0HnQ13o"
      },
      "outputs": [],
      "source": []
    }
  ],
  "metadata": {
    "accelerator": "TPU",
    "colab": {
      "machine_shape": "hm",
      "provenance": [],
      "include_colab_link": true
    },
    "kernelspec": {
      "display_name": "Python 3",
      "name": "python3"
    },
    "language_info": {
      "name": "python"
    }
  },
  "nbformat": 4,
  "nbformat_minor": 0
}