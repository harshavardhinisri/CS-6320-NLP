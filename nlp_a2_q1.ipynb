{
  "cells": [
    {
      "cell_type": "markdown",
      "metadata": {
        "id": "view-in-github",
        "colab_type": "text"
      },
      "source": [
        "<a href=\"https://colab.research.google.com/github/harshavardhinisri/CS-6320-NLP/blob/main/nlp_a2_q1.ipynb\" target=\"_parent\"><img src=\"https://colab.research.google.com/assets/colab-badge.svg\" alt=\"Open In Colab\"/></a>"
      ]
    },
    {
      "cell_type": "code",
      "execution_count": null,
      "metadata": {
        "id": "TnRWt30nJOgF"
      },
      "outputs": [],
      "source": [
        "import numpy as np\n",
        "import torch\n",
        "import torch.nn as nn\n",
        "from torch.nn import init\n",
        "import torch.optim as optim\n",
        "import math\n",
        "import random\n",
        "import os\n",
        "import time\n",
        "from tqdm import tqdm\n",
        "import json\n",
        "from argparse import ArgumentParser"
      ]
    },
    {
      "cell_type": "code",
      "execution_count": null,
      "metadata": {
        "id": "aZ8dY-vPO6AW"
      },
      "outputs": [],
      "source": [
        "unk = '<UNK>'"
      ]
    },
    {
      "cell_type": "code",
      "execution_count": null,
      "metadata": {
        "id": "8xwd_NqwPA-0"
      },
      "outputs": [],
      "source": [
        "# The FFNN class defines a simple feedforward neural network (FFNN) with\n",
        "# one hidden layer in PyTorch. It takes an input vector and first applies a\n",
        "# linear transformation (W1) followed by a ReLU activation function to generate\n",
        "# a hidden representation. This hidden representation is then transformed by another\n",
        "# linear layer (W2) and passed through a softmax function to produce a predicted output\n",
        "# vector, which is used for classification tasks. The network also includes a method\n",
        "# (compute_Loss) to calculate the negative log-likelihood loss for training.\n",
        "\n",
        "class FFNN(nn.Module):\n",
        "    def __init__(self, input_dim, h):\n",
        "        super(FFNN, self).__init__()\n",
        "        self.h = h\n",
        "        self.W1 = nn.Linear(input_dim, h)\n",
        "        self.activation = nn.ReLU()\n",
        "        self.output_dim = 5\n",
        "        self.W2 = nn.Linear(h, self.output_dim)\n",
        "        self.softmax = nn.LogSoftmax(dim=1)\n",
        "        self.loss = nn.NLLLoss()\n",
        "\n",
        "    def compute_Loss(self, predicted_vector, gold_label):\n",
        "        return self.loss(predicted_vector, gold_label)\n",
        "\n",
        "    def forward(self, input_vector):\n",
        "        hidden_representation = self.activation(self.W1(input_vector))\n",
        "        output_representation = self.W2(hidden_representation)\n",
        "        predicted_vector = self.softmax(output_representation)\n",
        "        return predicted_vector"
      ]
    },
    {
      "cell_type": "code",
      "execution_count": null,
      "metadata": {
        "id": "4zXosEWiPDys"
      },
      "outputs": [],
      "source": [
        "def make_vocab(data):\n",
        "    vocab = set()\n",
        "    for document, _ in data:\n",
        "        for word in document:\n",
        "            vocab.add(word)\n",
        "    return vocab"
      ]
    },
    {
      "cell_type": "code",
      "execution_count": null,
      "metadata": {
        "id": "DkKvkXg7PUrI"
      },
      "outputs": [],
      "source": [
        "def make_indices(vocab):\n",
        "    vocab_list = sorted(vocab)\n",
        "    vocab_list.append(unk)\n",
        "    word2index = {}\n",
        "    index2word = {}\n",
        "    for index, word in enumerate(vocab_list):\n",
        "        word2index[word] = index\n",
        "        index2word[index] = word\n",
        "    vocab.add(unk)\n",
        "    return vocab, word2index, index2word"
      ]
    },
    {
      "cell_type": "code",
      "execution_count": null,
      "metadata": {
        "id": "l4lXbQIqPXPt"
      },
      "outputs": [],
      "source": [
        "def convert_to_vector_representation(data, word2index):\n",
        "    vectorized_data = []\n",
        "    for document, y in data:\n",
        "        vector = torch.zeros(len(word2index))\n",
        "        for word in document:\n",
        "            index = word2index.get(word, word2index[unk])\n",
        "            vector[index] += 1\n",
        "        vectorized_data.append((vector, y))\n",
        "    return vectorized_data"
      ]
    },
    {
      "cell_type": "code",
      "execution_count": null,
      "metadata": {
        "id": "LhJNSuE6PZZk"
      },
      "outputs": [],
      "source": [
        "def load_data(train_data, val_data):\n",
        "    with open(train_data) as training_f:\n",
        "        training = json.load(training_f)\n",
        "    with open(val_data) as valid_f:\n",
        "        validation = json.load(valid_f)\n",
        "\n",
        "    tra = []\n",
        "    val = []\n",
        "    for elt in training:\n",
        "        tra.append((elt[\"text\"].split(), int(elt[\"stars\"]) - 1))\n",
        "    for elt in validation:\n",
        "        val.append((elt[\"text\"].split(), int(elt[\"stars\"]) - 1))\n",
        "\n",
        "    return tra, val"
      ]
    },
    {
      "cell_type": "code",
      "execution_count": null,
      "metadata": {
        "id": "canF4dZFPccl",
        "colab": {
          "base_uri": "https://localhost:8080/"
        },
        "outputId": "2cef83bc-e5a8-4f5a-8037-24ad37f41db5"
      },
      "outputs": [
        {
          "output_type": "execute_result",
          "data": {
            "text/plain": [
              "<torch._C.Generator at 0x7fc8041488f0>"
            ]
          },
          "metadata": {},
          "execution_count": 8
        }
      ],
      "source": [
        "class Args:\n",
        "    hidden_dim = 128\n",
        "    epochs = 10\n",
        "    train_data = 'training.json'\n",
        "    val_data = 'validation.json'\n",
        "    test_data = 'test.json'\n",
        "    do_train = True\n",
        "\n",
        "args = Args()\n",
        "\n",
        "random.seed(42)\n",
        "torch.manual_seed(42)"
      ]
    },
    {
      "cell_type": "code",
      "execution_count": null,
      "metadata": {
        "id": "OXKp-nUqP2_E",
        "colab": {
          "base_uri": "https://localhost:8080/"
        },
        "outputId": "4b44c06c-d60a-4746-d42d-7c98dec59ed6"
      },
      "outputs": [
        {
          "output_type": "stream",
          "name": "stdout",
          "text": [
            "========== Loading data ==========\n",
            "========== Vectorizing data ==========\n",
            "========== Training for 10 epochs ==========\n",
            "Training started for epoch 1\n"
          ]
        },
        {
          "output_type": "stream",
          "name": "stderr",
          "text": [
            "100%|██████████| 250/250 [02:56<00:00,  1.42it/s]\n"
          ]
        },
        {
          "output_type": "stream",
          "name": "stdout",
          "text": [
            "Training completed for epoch 1\n",
            "Training accuracy for epoch 1: 0.412875\n",
            "Training time for this epoch: 176.40744638442993\n",
            "Validation started for epoch 1\n"
          ]
        },
        {
          "output_type": "stream",
          "name": "stderr",
          "text": [
            "100%|██████████| 50/50 [00:00<00:00, 61.55it/s]\n"
          ]
        },
        {
          "output_type": "stream",
          "name": "stdout",
          "text": [
            "Validation completed for epoch 1\n",
            "Validation accuracy for epoch 1: 0.405\n",
            "Validation time for this epoch: 0.8166606426239014\n",
            "Training started for epoch 2\n"
          ]
        },
        {
          "output_type": "stream",
          "name": "stderr",
          "text": [
            "100%|██████████| 250/250 [02:57<00:00,  1.41it/s]\n"
          ]
        },
        {
          "output_type": "stream",
          "name": "stdout",
          "text": [
            "Training completed for epoch 2\n",
            "Training accuracy for epoch 2: 0.5156875\n",
            "Training time for this epoch: 177.2839994430542\n",
            "Validation started for epoch 2\n"
          ]
        },
        {
          "output_type": "stream",
          "name": "stderr",
          "text": [
            "100%|██████████| 50/50 [00:00<00:00, 55.29it/s]\n"
          ]
        },
        {
          "output_type": "stream",
          "name": "stdout",
          "text": [
            "Validation completed for epoch 2\n",
            "Validation accuracy for epoch 2: 0.4925\n",
            "Validation time for this epoch: 0.9080517292022705\n",
            "Training started for epoch 3\n"
          ]
        },
        {
          "output_type": "stream",
          "name": "stderr",
          "text": [
            "100%|██████████| 250/250 [02:57<00:00,  1.41it/s]\n"
          ]
        },
        {
          "output_type": "stream",
          "name": "stdout",
          "text": [
            "Training completed for epoch 3\n",
            "Training accuracy for epoch 3: 0.5486875\n",
            "Training time for this epoch: 177.0463469028473\n",
            "Validation started for epoch 3\n"
          ]
        },
        {
          "output_type": "stream",
          "name": "stderr",
          "text": [
            "100%|██████████| 50/50 [00:00<00:00, 50.04it/s]\n"
          ]
        },
        {
          "output_type": "stream",
          "name": "stdout",
          "text": [
            "Validation completed for epoch 3\n",
            "Validation accuracy for epoch 3: 0.53625\n",
            "Validation time for this epoch: 1.0061583518981934\n",
            "Training started for epoch 4\n"
          ]
        },
        {
          "output_type": "stream",
          "name": "stderr",
          "text": [
            "100%|██████████| 250/250 [03:00<00:00,  1.38it/s]\n"
          ]
        },
        {
          "output_type": "stream",
          "name": "stdout",
          "text": [
            "Training completed for epoch 4\n",
            "Training accuracy for epoch 4: 0.5881875\n",
            "Training time for this epoch: 180.6870687007904\n",
            "Validation started for epoch 4\n"
          ]
        },
        {
          "output_type": "stream",
          "name": "stderr",
          "text": [
            "100%|██████████| 50/50 [00:00<00:00, 54.71it/s]\n"
          ]
        },
        {
          "output_type": "stream",
          "name": "stdout",
          "text": [
            "Validation completed for epoch 4\n",
            "Validation accuracy for epoch 4: 0.49875\n",
            "Validation time for this epoch: 0.919135570526123\n",
            "Training started for epoch 5\n"
          ]
        },
        {
          "output_type": "stream",
          "name": "stderr",
          "text": [
            "100%|██████████| 250/250 [03:00<00:00,  1.38it/s]\n"
          ]
        },
        {
          "output_type": "stream",
          "name": "stdout",
          "text": [
            "Training completed for epoch 5\n",
            "Training accuracy for epoch 5: 0.6195625\n",
            "Training time for this epoch: 180.94740438461304\n",
            "Validation started for epoch 5\n"
          ]
        },
        {
          "output_type": "stream",
          "name": "stderr",
          "text": [
            "100%|██████████| 50/50 [00:00<00:00, 60.41it/s]\n"
          ]
        },
        {
          "output_type": "stream",
          "name": "stdout",
          "text": [
            "Validation completed for epoch 5\n",
            "Validation accuracy for epoch 5: 0.51\n",
            "Validation time for this epoch: 0.8315432071685791\n",
            "Training started for epoch 6\n"
          ]
        },
        {
          "output_type": "stream",
          "name": "stderr",
          "text": [
            "100%|██████████| 250/250 [03:04<00:00,  1.36it/s]\n"
          ]
        },
        {
          "output_type": "stream",
          "name": "stdout",
          "text": [
            "Training completed for epoch 6\n",
            "Training accuracy for epoch 6: 0.6465625\n",
            "Training time for this epoch: 184.0759997367859\n",
            "Validation started for epoch 6\n"
          ]
        },
        {
          "output_type": "stream",
          "name": "stderr",
          "text": [
            "100%|██████████| 50/50 [00:00<00:00, 59.08it/s]\n"
          ]
        },
        {
          "output_type": "stream",
          "name": "stdout",
          "text": [
            "Validation completed for epoch 6\n",
            "Validation accuracy for epoch 6: 0.54375\n",
            "Validation time for this epoch: 0.852717399597168\n",
            "Training started for epoch 7\n"
          ]
        },
        {
          "output_type": "stream",
          "name": "stderr",
          "text": [
            "100%|██████████| 250/250 [03:06<00:00,  1.34it/s]\n"
          ]
        },
        {
          "output_type": "stream",
          "name": "stdout",
          "text": [
            "Training completed for epoch 7\n",
            "Training accuracy for epoch 7: 0.6674375\n",
            "Training time for this epoch: 186.7496838569641\n",
            "Validation started for epoch 7\n"
          ]
        },
        {
          "output_type": "stream",
          "name": "stderr",
          "text": [
            "100%|██████████| 50/50 [00:00<00:00, 57.33it/s]\n"
          ]
        },
        {
          "output_type": "stream",
          "name": "stdout",
          "text": [
            "Validation completed for epoch 7\n",
            "Validation accuracy for epoch 7: 0.5375\n",
            "Validation time for this epoch: 0.8783266544342041\n",
            "Training started for epoch 8\n"
          ]
        },
        {
          "output_type": "stream",
          "name": "stderr",
          "text": [
            "100%|██████████| 250/250 [03:06<00:00,  1.34it/s]\n"
          ]
        },
        {
          "output_type": "stream",
          "name": "stdout",
          "text": [
            "Training completed for epoch 8\n",
            "Training accuracy for epoch 8: 0.698125\n",
            "Training time for this epoch: 186.52329182624817\n",
            "Validation started for epoch 8\n"
          ]
        },
        {
          "output_type": "stream",
          "name": "stderr",
          "text": [
            "100%|██████████| 50/50 [00:00<00:00, 58.41it/s]\n"
          ]
        },
        {
          "output_type": "stream",
          "name": "stdout",
          "text": [
            "Validation completed for epoch 8\n",
            "Validation accuracy for epoch 8: 0.53\n",
            "Validation time for this epoch: 0.8639857769012451\n",
            "Training started for epoch 9\n"
          ]
        },
        {
          "output_type": "stream",
          "name": "stderr",
          "text": [
            "100%|██████████| 250/250 [03:07<00:00,  1.33it/s]\n"
          ]
        },
        {
          "output_type": "stream",
          "name": "stdout",
          "text": [
            "Training completed for epoch 9\n",
            "Training accuracy for epoch 9: 0.7101875\n",
            "Training time for this epoch: 187.71519947052002\n",
            "Validation started for epoch 9\n"
          ]
        },
        {
          "output_type": "stream",
          "name": "stderr",
          "text": [
            "100%|██████████| 50/50 [00:00<00:00, 60.35it/s]\n"
          ]
        },
        {
          "output_type": "stream",
          "name": "stdout",
          "text": [
            "Validation completed for epoch 9\n",
            "Validation accuracy for epoch 9: 0.575\n",
            "Validation time for this epoch: 0.8334078788757324\n",
            "Training started for epoch 10\n"
          ]
        },
        {
          "output_type": "stream",
          "name": "stderr",
          "text": [
            "100%|██████████| 250/250 [03:07<00:00,  1.33it/s]\n"
          ]
        },
        {
          "output_type": "stream",
          "name": "stdout",
          "text": [
            "Training completed for epoch 10\n",
            "Training accuracy for epoch 10: 0.7400625\n",
            "Training time for this epoch: 187.6691815853119\n",
            "Validation started for epoch 10\n"
          ]
        },
        {
          "output_type": "stream",
          "name": "stderr",
          "text": [
            "100%|██████████| 50/50 [00:00<00:00, 60.03it/s]"
          ]
        },
        {
          "output_type": "stream",
          "name": "stdout",
          "text": [
            "Validation completed for epoch 10\n",
            "Validation accuracy for epoch 10: 0.55625\n",
            "Validation time for this epoch: 0.8382613658905029\n"
          ]
        },
        {
          "output_type": "stream",
          "name": "stderr",
          "text": [
            "\n"
          ]
        }
      ],
      "source": [
        "# the training data is shuffled and processed in minibatches, with loss\n",
        "# computed and gradients backpropagated to update the model's parameters.\n",
        "# Similarly, the model's performance is validated on the validation data,\n",
        "# with both training and validation accuracies printed after each epoch to\n",
        "# monitor progress. The script also includes timing for each epoch to track\n",
        "# the training and validation duration\n",
        "\n",
        "print(\"========== Loading data ==========\")\n",
        "train_data, valid_data = load_data(args.train_data, args.val_data)\n",
        "vocab = make_vocab(train_data)\n",
        "vocab, word2index, index2word = make_indices(vocab)\n",
        "\n",
        "print(\"========== Vectorizing data ==========\")\n",
        "train_data = convert_to_vector_representation(train_data, word2index)\n",
        "valid_data = convert_to_vector_representation(valid_data, word2index)\n",
        "\n",
        "model = FFNN(input_dim=len(vocab), h=args.hidden_dim)\n",
        "optimizer = optim.SGD(model.parameters(), lr=0.01, momentum=0.9)\n",
        "\n",
        "print(\"========== Training for {} epochs ==========\".format(args.epochs))\n",
        "for epoch in range(args.epochs):\n",
        "    model.train()\n",
        "    optimizer.zero_grad()\n",
        "    loss = None\n",
        "    correct = 0\n",
        "    total = 0\n",
        "    start_time = time.time()\n",
        "    print(\"Training started for epoch {}\".format(epoch + 1))\n",
        "    random.shuffle(train_data)\n",
        "    minibatch_size = 64  # Increase the batch size\n",
        "    N = len(train_data)\n",
        "    for minibatch_index in tqdm(range(N // minibatch_size)):\n",
        "        optimizer.zero_grad()\n",
        "        loss = None\n",
        "        for example_index in range(minibatch_size):\n",
        "            input_vector, gold_label = train_data[minibatch_index * minibatch_size + example_index]\n",
        "            predicted_vector = model(input_vector.float().unsqueeze(0))\n",
        "            predicted_label = torch.argmax(predicted_vector)\n",
        "            correct += int(predicted_label == gold_label)\n",
        "            total += 1\n",
        "            example_loss = model.compute_Loss(predicted_vector.view(1, -1), torch.tensor([gold_label]))\n",
        "            if loss is None:\n",
        "                loss = example_loss\n",
        "            else:\n",
        "                loss += example_loss\n",
        "        loss = loss / minibatch_size\n",
        "        loss.backward()\n",
        "        optimizer.step()\n",
        "    print(\"Training completed for epoch {}\".format(epoch + 1))\n",
        "    print(\"Training accuracy for epoch {}: {}\".format(epoch + 1, correct / total))\n",
        "    print(\"Training time for this epoch: {}\".format(time.time() - start_time))\n",
        "\n",
        "    loss = None\n",
        "    correct = 0\n",
        "    total = 0\n",
        "    start_time = time.time()\n",
        "    print(\"Validation started for epoch {}\".format(epoch + 1))\n",
        "    minibatch_size = 16\n",
        "    N = len(valid_data)\n",
        "\n",
        "    # Validation code (similar to training)\n",
        "    for minibatch_index in tqdm(range(N // minibatch_size)):\n",
        "        optimizer.zero_grad()\n",
        "        loss = None\n",
        "        for example_index in range(minibatch_size):\n",
        "            input_vector, gold_label = valid_data[minibatch_index * minibatch_size + example_index]\n",
        "            predicted_vector = model(input_vector.float().unsqueeze(0))\n",
        "            predicted_label = torch.argmax(predicted_vector)\n",
        "            correct += int(predicted_label == gold_label)\n",
        "            total += 1\n",
        "            example_loss = model.compute_Loss(predicted_vector.view(1, -1), torch.tensor([gold_label]))\n",
        "            if loss is None:\n",
        "                loss = example_loss\n",
        "            else:\n",
        "                loss += example_loss\n",
        "    print(\"Validation completed for epoch {}\".format(epoch + 1))\n",
        "    print(\"Validation accuracy for epoch {}: {}\".format(epoch + 1, correct / total))\n",
        "    print(\"Validation time for this epoch: {}\".format(time.time() - start_time))\n"
      ]
    },
    {
      "cell_type": "code",
      "execution_count": null,
      "metadata": {
        "id": "d56NfHAQQNXn",
        "colab": {
          "base_uri": "https://localhost:8080/"
        },
        "outputId": "8536e59f-899d-4f30-a4b3-0fcc62dcb8f8"
      },
      "outputs": [
        {
          "output_type": "stream",
          "name": "stdout",
          "text": [
            "Testing started\n",
            "Testing Accuracy: 55.62%\n"
          ]
        }
      ],
      "source": [
        "def load_test_data(test_data):\n",
        "    with open(test_data) as test_f:\n",
        "        test = json.load(test_f)\n",
        "    test_data = [(elt[\"text\"].split(), int(elt[\"stars\"]-1)) for elt in test]\n",
        "    return test_data\n",
        "\n",
        "# Assuming Args class is defined as before\n",
        "args = Args()\n",
        "\n",
        "# Load and process test data\n",
        "test_data = load_test_data(args.test_data)\n",
        "test_data = convert_to_vector_representation(test_data, word2index)\n",
        "\n",
        "# Testing\n",
        "model.eval()\n",
        "total_correct, total = 0, 0\n",
        "print(\"Testing started\")\n",
        "for input_vector, gold_label in test_data:\n",
        "    input_vector = input_vector.float().unsqueeze(0)  # Adjusting for batch dimension\n",
        "    predicted_vector = model(input_vector)\n",
        "    predicted_label = torch.argmax(predicted_vector)\n",
        "    total_correct += int(predicted_label == gold_label)\n",
        "    total += 1\n",
        "\n",
        "test_accuracy = (total_correct / total)*100\n",
        "print(f\"Testing Accuracy: {test_accuracy:.2f}%\")\n",
        "\n"
      ]
    },
    {
      "cell_type": "code",
      "source": [],
      "metadata": {
        "id": "iFI-7dRWS9T8"
      },
      "execution_count": null,
      "outputs": []
    },
    {
      "cell_type": "code",
      "source": [
        "# This model features a more complex architecture with five hidden layers,\n",
        "# each with different dimensions, where the size of intermediate layers is increased\n",
        "# and then decreased, forming a sort of pyramid structure. The layers are\n",
        "# implemented as linear transformations (W1 to W6) followed by\n",
        "# ReLU activation functions.\n",
        "\n",
        "import torch.nn as nn\n",
        "\n",
        "class DeepFFNN(nn.Module):\n",
        "    def __init__(self, input_dim, h):\n",
        "        super(DeepFFNN, self).__init__()\n",
        "\n",
        "        # Define the hidden layers and their dimensions\n",
        "        self.h1 = h\n",
        "        self.h2 = int(h*1.5)  # Adjust the size as needed\n",
        "        self.h3 = int(h*2)  # Adjust the size as needed\n",
        "        self.h4 = int(h*1.5)  # Adjust the size as needed\n",
        "        self.h5 = h  # Adjust the size as needed, remove if not needed\n",
        "\n",
        "        # Define the linear transformations for each layer\n",
        "        self.W1 = nn.Linear(input_dim, self.h1)\n",
        "        self.W2 = nn.Linear(self.h1, self.h2)\n",
        "        self.W3 = nn.Linear(self.h2, self.h3)\n",
        "        self.W4 = nn.Linear(self.h3, self.h4)\n",
        "        self.W5 = nn.Linear(self.h4, self.h5)  # Remove if not needed\n",
        "        self.W6 = nn.Linear(self.h5, 5)  # Change this to W5 if the fifth layer is not needed\n",
        "\n",
        "        # Define the activation function\n",
        "        self.activation = nn.ReLU()\n",
        "\n",
        "        # Define the output functions\n",
        "        self.softmax = nn.LogSoftmax(dim=1)\n",
        "        self.loss = nn.NLLLoss()\n",
        "\n",
        "    def compute_Loss(self, predicted_vector, gold_label):\n",
        "        return self.loss(predicted_vector, gold_label)\n",
        "\n",
        "    def forward(self, input_vector):\n",
        "        # Forward pass through each layer with activation\n",
        "        x = self.activation(self.W1(input_vector))\n",
        "        x = self.activation(self.W2(x))\n",
        "        x = self.activation(self.W3(x))\n",
        "        x = self.activation(self.W4(x))\n",
        "        x = self.activation(self.W5(x))  # Remove if not needed\n",
        "        predicted_vector = self.softmax(self.W6(x))  # Change this to W5 if the fifth layer is not needed\n",
        "        return predicted_vector\n"
      ],
      "metadata": {
        "id": "MlxxX_z7MmIH"
      },
      "execution_count": null,
      "outputs": []
    },
    {
      "cell_type": "code",
      "source": [
        "print(\"========== Loading data ==========\")\n",
        "train_data, valid_data = load_data(args.train_data, args.val_data)\n",
        "vocab = make_vocab(train_data)\n",
        "vocab, word2index, index2word = make_indices(vocab)\n",
        "\n",
        "print(\"========== Vectorizing data ==========\")\n",
        "train_data = convert_to_vector_representation(train_data, word2index)\n",
        "valid_data = convert_to_vector_representation(valid_data, word2index)\n",
        "\n",
        "model = DeepFFNN(input_dim=len(vocab), h=args.hidden_dim)\n",
        "optimizer = optim.SGD(model.parameters(), lr=0.01, momentum=0.9)\n",
        "\n",
        "print(\"========== Training for {} epochs ==========\".format(args.epochs))\n",
        "for epoch in range(args.epochs):\n",
        "    model.train()\n",
        "    total_loss, total_correct, total = 0, 0, 0\n",
        "    start_time = time.time()\n",
        "    print(\"Training started for epoch {}\".format(epoch + 1))\n",
        "    random.shuffle(train_data)\n",
        "    minibatch_size = 64  # Increased batch size\n",
        "    N = len(train_data)\n",
        "\n",
        "    for minibatch_index in tqdm(range(N // minibatch_size)):\n",
        "        optimizer.zero_grad()\n",
        "        minibatch_loss = None\n",
        "        for example_index in range(minibatch_size):\n",
        "            input_vector, gold_label = train_data[minibatch_index * minibatch_size + example_index]\n",
        "            input_vector = input_vector.float().unsqueeze(0)  # Adjusting for batch dimension\n",
        "            predicted_vector = model(input_vector)\n",
        "            predicted_label = torch.argmax(predicted_vector)\n",
        "            total_correct += int(predicted_label == gold_label)\n",
        "            total += 1\n",
        "            example_loss = model.compute_Loss(predicted_vector.view(1, -1), torch.tensor([gold_label]))\n",
        "            minibatch_loss = example_loss if minibatch_loss is None else minibatch_loss + example_loss\n",
        "        minibatch_loss = minibatch_loss / minibatch_size\n",
        "        total_loss += minibatch_loss.item()\n",
        "        minibatch_loss.backward()\n",
        "        optimizer.step()\n",
        "\n",
        "    print(\"Training completed for epoch {}\".format(epoch + 1))\n",
        "    print(\"Training accuracy for epoch {}: {:.2f}%\".format(epoch + 1, (total_correct / total) * 100))\n",
        "    print(\"Training time for this epoch: {:.2f} seconds\".format(time.time() - start_time))\n",
        "\n",
        "    # Validation\n",
        "    model.eval()\n",
        "    total_correct, total = 0, 0\n",
        "    start_time = time.time()\n",
        "    print(\"Validation started for epoch {}\".format(epoch + 1))\n",
        "    minibatch_size = 16  # Validation batch size\n",
        "    N = len(valid_data)\n",
        "\n",
        "    for minibatch_index in tqdm(range(N // minibatch_size)):\n",
        "        minibatch_loss = None\n",
        "        for example_index in range(minibatch_size):\n",
        "            input_vector, gold_label = valid_data[minibatch_index * minibatch_size + example_index]\n",
        "            input_vector = input_vector.float().unsqueeze(0)  # Adjusting for batch dimension\n",
        "            predicted_vector = model(input_vector)\n",
        "            predicted_label = torch.argmax(predicted_vector)\n",
        "            total_correct += int(predicted_label == gold_label)\n",
        "            total += 1\n",
        "            example_loss = model.compute_Loss(predicted_vector.view(1, -1), torch.tensor([gold_label]))\n",
        "            minibatch_loss = example_loss if minibatch_loss is None else minibatch_loss + example_loss\n",
        "\n",
        "    print(\"Validation completed for epoch {}\".format(epoch + 1))\n",
        "    print(\"Validation accuracy for epoch {}: {:.2f}%\".format(epoch + 1, (total_correct / total) * 100))\n",
        "    print(\"Validation time for this epoch: {:.2f} seconds\".format(time.time() - start_time))\n",
        "\n"
      ],
      "metadata": {
        "id": "ANqRSQ09MrFc",
        "colab": {
          "base_uri": "https://localhost:8080/"
        },
        "outputId": "fdbfd07d-66d6-4870-beb1-01f6ba027380"
      },
      "execution_count": null,
      "outputs": [
        {
          "metadata": {
            "tags": null
          },
          "name": "stdout",
          "output_type": "stream",
          "text": [
            "========== Loading data ==========\n",
            "========== Vectorizing data ==========\n",
            "========== Training for 10 epochs ==========\n",
            "Training started for epoch 1\n"
          ]
        },
        {
          "metadata": {
            "tags": null
          },
          "name": "stderr",
          "output_type": "stream",
          "text": [
            "100%|██████████| 250/250 [03:08<00:00,  1.33it/s]\n"
          ]
        },
        {
          "metadata": {
            "tags": null
          },
          "name": "stdout",
          "output_type": "stream",
          "text": [
            "Training completed for epoch 1\n",
            "Training accuracy for epoch 1: 20.99%\n",
            "Training time for this epoch: 188.17 seconds\n",
            "Validation started for epoch 1\n"
          ]
        },
        {
          "metadata": {
            "tags": null
          },
          "name": "stderr",
          "output_type": "stream",
          "text": [
            "100%|██████████| 50/50 [00:00<00:00, 52.58it/s]\n"
          ]
        },
        {
          "metadata": {
            "tags": null
          },
          "name": "stdout",
          "output_type": "stream",
          "text": [
            "Validation completed for epoch 1\n",
            "Validation accuracy for epoch 1: 24.00%\n",
            "Validation time for this epoch: 0.95 seconds\n",
            "Training started for epoch 2\n"
          ]
        },
        {
          "metadata": {
            "tags": null
          },
          "name": "stderr",
          "output_type": "stream",
          "text": [
            "100%|██████████| 250/250 [03:09<00:00,  1.32it/s]\n"
          ]
        },
        {
          "metadata": {
            "tags": null
          },
          "name": "stdout",
          "output_type": "stream",
          "text": [
            "Training completed for epoch 2\n",
            "Training accuracy for epoch 2: 29.45%\n",
            "Training time for this epoch: 189.67 seconds\n",
            "Validation started for epoch 2\n"
          ]
        },
        {
          "metadata": {
            "tags": null
          },
          "name": "stderr",
          "output_type": "stream",
          "text": [
            "100%|██████████| 50/50 [00:00<00:00, 52.17it/s]\n"
          ]
        },
        {
          "metadata": {
            "tags": null
          },
          "name": "stdout",
          "output_type": "stream",
          "text": [
            "Validation completed for epoch 2\n",
            "Validation accuracy for epoch 2: 29.12%\n",
            "Validation time for this epoch: 0.96 seconds\n",
            "Training started for epoch 3\n"
          ]
        },
        {
          "metadata": {
            "tags": null
          },
          "name": "stderr",
          "output_type": "stream",
          "text": [
            "100%|██████████| 250/250 [03:10<00:00,  1.31it/s]\n"
          ]
        },
        {
          "metadata": {
            "tags": null
          },
          "name": "stdout",
          "output_type": "stream",
          "text": [
            "Training completed for epoch 3\n",
            "Training accuracy for epoch 3: 44.41%\n",
            "Training time for this epoch: 190.50 seconds\n",
            "Validation started for epoch 3\n"
          ]
        },
        {
          "metadata": {
            "tags": null
          },
          "name": "stderr",
          "output_type": "stream",
          "text": [
            "100%|██████████| 50/50 [00:00<00:00, 51.77it/s]\n"
          ]
        },
        {
          "metadata": {
            "tags": null
          },
          "name": "stdout",
          "output_type": "stream",
          "text": [
            "Validation completed for epoch 3\n",
            "Validation accuracy for epoch 3: 46.25%\n",
            "Validation time for this epoch: 0.97 seconds\n",
            "Training started for epoch 4\n"
          ]
        },
        {
          "metadata": {
            "tags": null
          },
          "name": "stderr",
          "output_type": "stream",
          "text": [
            "100%|██████████| 250/250 [03:10<00:00,  1.31it/s]\n"
          ]
        },
        {
          "metadata": {
            "tags": null
          },
          "name": "stdout",
          "output_type": "stream",
          "text": [
            "Training completed for epoch 4\n",
            "Training accuracy for epoch 4: 53.00%\n",
            "Training time for this epoch: 190.50 seconds\n",
            "Validation started for epoch 4\n"
          ]
        },
        {
          "metadata": {
            "tags": null
          },
          "name": "stderr",
          "output_type": "stream",
          "text": [
            "100%|██████████| 50/50 [00:00<00:00, 50.65it/s]\n"
          ]
        },
        {
          "metadata": {
            "tags": null
          },
          "name": "stdout",
          "output_type": "stream",
          "text": [
            "Validation completed for epoch 4\n",
            "Validation accuracy for epoch 4: 54.75%\n",
            "Validation time for this epoch: 0.99 seconds\n",
            "Training started for epoch 5\n"
          ]
        },
        {
          "metadata": {
            "tags": null
          },
          "name": "stderr",
          "output_type": "stream",
          "text": [
            "100%|██████████| 250/250 [03:12<00:00,  1.30it/s]\n"
          ]
        },
        {
          "metadata": {
            "tags": null
          },
          "name": "stdout",
          "output_type": "stream",
          "text": [
            "Training completed for epoch 5\n",
            "Training accuracy for epoch 5: 57.26%\n",
            "Training time for this epoch: 192.38 seconds\n",
            "Validation started for epoch 5\n"
          ]
        },
        {
          "metadata": {
            "tags": null
          },
          "name": "stderr",
          "output_type": "stream",
          "text": [
            "100%|██████████| 50/50 [00:01<00:00, 45.34it/s]\n"
          ]
        },
        {
          "metadata": {
            "tags": null
          },
          "name": "stdout",
          "output_type": "stream",
          "text": [
            "Validation completed for epoch 5\n",
            "Validation accuracy for epoch 5: 48.88%\n",
            "Validation time for this epoch: 1.11 seconds\n",
            "Training started for epoch 6\n"
          ]
        },
        {
          "metadata": {
            "tags": null
          },
          "name": "stderr",
          "output_type": "stream",
          "text": [
            "100%|██████████| 250/250 [03:14<00:00,  1.29it/s]\n"
          ]
        },
        {
          "metadata": {
            "tags": null
          },
          "name": "stdout",
          "output_type": "stream",
          "text": [
            "Training completed for epoch 6\n",
            "Training accuracy for epoch 6: 60.19%\n",
            "Training time for this epoch: 194.08 seconds\n",
            "Validation started for epoch 6\n"
          ]
        },
        {
          "metadata": {
            "tags": null
          },
          "name": "stderr",
          "output_type": "stream",
          "text": [
            "100%|██████████| 50/50 [00:00<00:00, 53.23it/s]\n"
          ]
        },
        {
          "metadata": {
            "tags": null
          },
          "name": "stdout",
          "output_type": "stream",
          "text": [
            "Validation completed for epoch 6\n",
            "Validation accuracy for epoch 6: 49.50%\n",
            "Validation time for this epoch: 0.95 seconds\n",
            "Training started for epoch 7\n"
          ]
        },
        {
          "metadata": {
            "tags": null
          },
          "name": "stderr",
          "output_type": "stream",
          "text": [
            "100%|██████████| 250/250 [03:18<00:00,  1.26it/s]\n"
          ]
        },
        {
          "metadata": {
            "tags": null
          },
          "name": "stdout",
          "output_type": "stream",
          "text": [
            "Training completed for epoch 7\n",
            "Training accuracy for epoch 7: 62.68%\n",
            "Training time for this epoch: 198.75 seconds\n",
            "Validation started for epoch 7\n"
          ]
        },
        {
          "metadata": {
            "tags": null
          },
          "name": "stderr",
          "output_type": "stream",
          "text": [
            "100%|██████████| 50/50 [00:00<00:00, 53.89it/s]\n"
          ]
        },
        {
          "metadata": {
            "tags": null
          },
          "name": "stdout",
          "output_type": "stream",
          "text": [
            "Validation completed for epoch 7\n",
            "Validation accuracy for epoch 7: 58.13%\n",
            "Validation time for this epoch: 0.93 seconds\n",
            "Training started for epoch 8\n"
          ]
        },
        {
          "metadata": {
            "tags": null
          },
          "name": "stderr",
          "output_type": "stream",
          "text": [
            "100%|██████████| 250/250 [03:19<00:00,  1.25it/s]\n"
          ]
        },
        {
          "metadata": {
            "tags": null
          },
          "name": "stdout",
          "output_type": "stream",
          "text": [
            "Training completed for epoch 8\n",
            "Training accuracy for epoch 8: 66.42%\n",
            "Training time for this epoch: 199.28 seconds\n",
            "Validation started for epoch 8\n"
          ]
        },
        {
          "metadata": {
            "tags": null
          },
          "name": "stderr",
          "output_type": "stream",
          "text": [
            "100%|██████████| 50/50 [00:00<00:00, 51.63it/s]\n"
          ]
        },
        {
          "metadata": {
            "tags": null
          },
          "name": "stdout",
          "output_type": "stream",
          "text": [
            "Validation completed for epoch 8\n",
            "Validation accuracy for epoch 8: 55.12%\n",
            "Validation time for this epoch: 0.97 seconds\n",
            "Training started for epoch 9\n"
          ]
        },
        {
          "metadata": {
            "tags": null
          },
          "name": "stderr",
          "output_type": "stream",
          "text": [
            "100%|██████████| 250/250 [03:20<00:00,  1.25it/s]\n"
          ]
        },
        {
          "metadata": {
            "tags": null
          },
          "name": "stdout",
          "output_type": "stream",
          "text": [
            "Training completed for epoch 9\n",
            "Training accuracy for epoch 9: 68.11%\n",
            "Training time for this epoch: 200.66 seconds\n",
            "Validation started for epoch 9\n"
          ]
        },
        {
          "metadata": {
            "tags": null
          },
          "name": "stderr",
          "output_type": "stream",
          "text": [
            "100%|██████████| 50/50 [00:00<00:00, 50.88it/s]\n"
          ]
        },
        {
          "metadata": {
            "tags": null
          },
          "name": "stdout",
          "output_type": "stream",
          "text": [
            "Validation completed for epoch 9\n",
            "Validation accuracy for epoch 9: 53.50%\n",
            "Validation time for this epoch: 0.99 seconds\n",
            "Training started for epoch 10\n"
          ]
        },
        {
          "output_type": "stream",
          "name": "stderr",
          "text": [
            "100%|██████████| 250/250 [03:21<00:00,  1.24it/s]\n"
          ]
        },
        {
          "output_type": "stream",
          "name": "stdout",
          "text": [
            "Training completed for epoch 10\n",
            "Training accuracy for epoch 10: 70.68%\n",
            "Training time for this epoch: 201.12 seconds\n",
            "Validation started for epoch 10\n"
          ]
        },
        {
          "output_type": "stream",
          "name": "stderr",
          "text": [
            "100%|██████████| 50/50 [00:00<00:00, 53.18it/s]"
          ]
        },
        {
          "output_type": "stream",
          "name": "stdout",
          "text": [
            "Validation completed for epoch 10\n",
            "Validation accuracy for epoch 10: 46.12%\n",
            "Validation time for this epoch: 0.94 seconds\n"
          ]
        },
        {
          "output_type": "stream",
          "name": "stderr",
          "text": [
            "\n"
          ]
        }
      ]
    },
    {
      "cell_type": "code",
      "source": [
        "def load_test_data(test_data):\n",
        "    with open(test_data) as test_f:\n",
        "        test = json.load(test_f)\n",
        "    test_data = [(elt[\"text\"].split(), int(elt[\"stars\"]-1)) for elt in test]\n",
        "    return test_data\n",
        "\n",
        "# Assuming Args class is defined as before\n",
        "args = Args()\n",
        "\n",
        "# Load and process test data\n",
        "test_data = load_test_data(args.test_data)\n",
        "test_data = convert_to_vector_representation(test_data, word2index)\n",
        "\n",
        "# Testing\n",
        "model.eval()\n",
        "total_correct, total = 0, 0\n",
        "print(\"Testing started\")\n",
        "for input_vector, gold_label in test_data:\n",
        "    input_vector = input_vector.float().unsqueeze(0)  # Adjusting for batch dimension\n",
        "    predicted_vector = model(input_vector)\n",
        "    predicted_label = torch.argmax(predicted_vector)\n",
        "    total_correct += int(predicted_label == gold_label)\n",
        "    total += 1\n",
        "\n",
        "test_accuracy = (total_correct / total)*100\n",
        "print(f\"Testing Accuracy: {test_accuracy:.2f}%\")\n",
        "\n"
      ],
      "metadata": {
        "id": "jIEKi_qPMu-o",
        "colab": {
          "base_uri": "https://localhost:8080/"
        },
        "outputId": "a7ba2281-a340-4bc2-ceed-9110ba65f08e"
      },
      "execution_count": null,
      "outputs": [
        {
          "output_type": "stream",
          "name": "stdout",
          "text": [
            "Testing started\n",
            "Testing Accuracy: 57.75%\n"
          ]
        }
      ]
    },
    {
      "cell_type": "code",
      "source": [
        "class Args:\n",
        "    hidden_dim = 128\n",
        "    epochs = 15\n",
        "    train_data = 'training.json'\n",
        "    val_data = 'validation.json'\n",
        "    test_data = 'test.json'\n",
        "    do_train = True\n",
        "\n",
        "args = Args()\n",
        "\n",
        "random.seed(42)\n",
        "torch.manual_seed(42)"
      ],
      "metadata": {
        "id": "52rJXRMuMxhi",
        "colab": {
          "base_uri": "https://localhost:8080/"
        },
        "outputId": "3319ea73-dacb-4fd3-da92-b4f78747606f"
      },
      "execution_count": null,
      "outputs": [
        {
          "output_type": "execute_result",
          "data": {
            "text/plain": [
              "<torch._C.Generator at 0x7fc8041488f0>"
            ]
          },
          "metadata": {},
          "execution_count": 20
        }
      ]
    },
    {
      "cell_type": "code",
      "source": [
        "print(\"========== Loading data ==========\")\n",
        "train_data, valid_data = load_data(args.train_data, args.val_data)\n",
        "vocab = make_vocab(train_data)\n",
        "vocab, word2index, index2word = make_indices(vocab)\n",
        "\n",
        "print(\"========== Vectorizing data ==========\")\n",
        "train_data = convert_to_vector_representation(train_data, word2index)\n",
        "valid_data = convert_to_vector_representation(valid_data, word2index)\n",
        "\n",
        "model = DeepFFNN(input_dim=len(vocab), h=args.hidden_dim)\n",
        "optimizer = optim.SGD(model.parameters(), lr=0.01, momentum=0.9)\n",
        "\n",
        "print(\"========== Training for {} epochs ==========\".format(args.epochs))\n",
        "for epoch in range(args.epochs):\n",
        "    model.train()\n",
        "    total_loss, total_correct, total = 0, 0, 0\n",
        "    start_time = time.time()\n",
        "    print(\"Training started for epoch {}\".format(epoch + 1))\n",
        "    random.shuffle(train_data)\n",
        "    minibatch_size = 64  # Increased batch size\n",
        "    N = len(train_data)\n",
        "\n",
        "    for minibatch_index in tqdm(range(N // minibatch_size)):\n",
        "        optimizer.zero_grad()\n",
        "        minibatch_loss = None\n",
        "        for example_index in range(minibatch_size):\n",
        "            input_vector, gold_label = train_data[minibatch_index * minibatch_size + example_index]\n",
        "            input_vector = input_vector.float().unsqueeze(0)  # Adjusting for batch dimension\n",
        "            predicted_vector = model(input_vector)\n",
        "            predicted_label = torch.argmax(predicted_vector)\n",
        "            total_correct += int(predicted_label == gold_label)\n",
        "            total += 1\n",
        "            example_loss = model.compute_Loss(predicted_vector.view(1, -1), torch.tensor([gold_label]))\n",
        "            minibatch_loss = example_loss if minibatch_loss is None else minibatch_loss + example_loss\n",
        "        minibatch_loss = minibatch_loss / minibatch_size\n",
        "        total_loss += minibatch_loss.item()\n",
        "        minibatch_loss.backward()\n",
        "        optimizer.step()\n",
        "\n",
        "    print(\"Training completed for epoch {}\".format(epoch + 1))\n",
        "    print(\"Training accuracy for epoch {}: {:.2f}%\".format(epoch + 1, (total_correct / total) * 100))\n",
        "    print(\"Training time for this epoch: {:.2f} seconds\".format(time.time() - start_time))\n",
        "\n",
        "    # Validation\n",
        "    model.eval()\n",
        "    total_correct, total = 0, 0\n",
        "    start_time = time.time()\n",
        "    print(\"Validation started for epoch {}\".format(epoch + 1))\n",
        "    minibatch_size = 16  # Validation batch size\n",
        "    N = len(valid_data)\n",
        "\n",
        "    for minibatch_index in tqdm(range(N // minibatch_size)):\n",
        "        minibatch_loss = None\n",
        "        for example_index in range(minibatch_size):\n",
        "            input_vector, gold_label = valid_data[minibatch_index * minibatch_size + example_index]\n",
        "            input_vector = input_vector.float().unsqueeze(0)  # Adjusting for batch dimension\n",
        "            predicted_vector = model(input_vector)\n",
        "            predicted_label = torch.argmax(predicted_vector)\n",
        "            total_correct += int(predicted_label == gold_label)\n",
        "            total += 1\n",
        "            example_loss = model.compute_Loss(predicted_vector.view(1, -1), torch.tensor([gold_label]))\n",
        "            minibatch_loss = example_loss if minibatch_loss is None else minibatch_loss + example_loss\n",
        "\n",
        "    print(\"Validation completed for epoch {}\".format(epoch + 1))\n",
        "    print(\"Validation accuracy for epoch {}: {:.2f}%\".format(epoch + 1, (total_correct / total) * 100))\n",
        "    print(\"Validation time for this epoch: {:.2f} seconds\".format(time.time() - start_time))\n",
        "\n"
      ],
      "metadata": {
        "colab": {
          "base_uri": "https://localhost:8080/"
        },
        "id": "fosy4XoJOUWv",
        "outputId": "2bb1ae6a-4f9a-495e-815a-b3be901dffc9"
      },
      "execution_count": null,
      "outputs": [
        {
          "output_type": "stream",
          "name": "stdout",
          "text": [
            "========== Loading data ==========\n",
            "========== Vectorizing data ==========\n",
            "========== Training for 15 epochs ==========\n",
            "Training started for epoch 1\n"
          ]
        },
        {
          "output_type": "stream",
          "name": "stderr",
          "text": [
            "100%|██████████| 250/250 [03:15<00:00,  1.28it/s]\n"
          ]
        },
        {
          "output_type": "stream",
          "name": "stdout",
          "text": [
            "Training completed for epoch 1\n",
            "Training accuracy for epoch 1: 20.35%\n",
            "Training time for this epoch: 196.00 seconds\n",
            "Validation started for epoch 1\n"
          ]
        },
        {
          "output_type": "stream",
          "name": "stderr",
          "text": [
            "100%|██████████| 50/50 [00:01<00:00, 49.92it/s]\n"
          ]
        },
        {
          "output_type": "stream",
          "name": "stdout",
          "text": [
            "Validation completed for epoch 1\n",
            "Validation accuracy for epoch 1: 0.75%\n",
            "Validation time for this epoch: 1.01 seconds\n",
            "Training started for epoch 2\n"
          ]
        },
        {
          "output_type": "stream",
          "name": "stderr",
          "text": [
            "100%|██████████| 250/250 [03:18<00:00,  1.26it/s]\n"
          ]
        },
        {
          "output_type": "stream",
          "name": "stdout",
          "text": [
            "Training completed for epoch 2\n",
            "Training accuracy for epoch 2: 26.91%\n",
            "Training time for this epoch: 198.11 seconds\n",
            "Validation started for epoch 2\n"
          ]
        },
        {
          "output_type": "stream",
          "name": "stderr",
          "text": [
            "100%|██████████| 50/50 [00:01<00:00, 49.08it/s]\n"
          ]
        },
        {
          "output_type": "stream",
          "name": "stdout",
          "text": [
            "Validation completed for epoch 2\n",
            "Validation accuracy for epoch 2: 36.75%\n",
            "Validation time for this epoch: 1.02 seconds\n",
            "Training started for epoch 3\n"
          ]
        },
        {
          "output_type": "stream",
          "name": "stderr",
          "text": [
            "100%|██████████| 250/250 [03:17<00:00,  1.26it/s]\n"
          ]
        },
        {
          "output_type": "stream",
          "name": "stdout",
          "text": [
            "Training completed for epoch 3\n",
            "Training accuracy for epoch 3: 43.30%\n",
            "Training time for this epoch: 197.94 seconds\n",
            "Validation started for epoch 3\n"
          ]
        },
        {
          "output_type": "stream",
          "name": "stderr",
          "text": [
            "100%|██████████| 50/50 [00:00<00:00, 52.14it/s]\n"
          ]
        },
        {
          "output_type": "stream",
          "name": "stdout",
          "text": [
            "Validation completed for epoch 3\n",
            "Validation accuracy for epoch 3: 42.50%\n",
            "Validation time for this epoch: 0.97 seconds\n",
            "Training started for epoch 4\n"
          ]
        },
        {
          "output_type": "stream",
          "name": "stderr",
          "text": [
            "100%|██████████| 250/250 [03:19<00:00,  1.25it/s]\n"
          ]
        },
        {
          "output_type": "stream",
          "name": "stdout",
          "text": [
            "Training completed for epoch 4\n",
            "Training accuracy for epoch 4: 51.90%\n",
            "Training time for this epoch: 199.58 seconds\n",
            "Validation started for epoch 4\n"
          ]
        },
        {
          "output_type": "stream",
          "name": "stderr",
          "text": [
            "100%|██████████| 50/50 [00:00<00:00, 53.12it/s]\n"
          ]
        },
        {
          "output_type": "stream",
          "name": "stdout",
          "text": [
            "Validation completed for epoch 4\n",
            "Validation accuracy for epoch 4: 55.50%\n",
            "Validation time for this epoch: 0.95 seconds\n",
            "Training started for epoch 5\n"
          ]
        },
        {
          "output_type": "stream",
          "name": "stderr",
          "text": [
            "100%|██████████| 250/250 [03:20<00:00,  1.24it/s]\n"
          ]
        },
        {
          "output_type": "stream",
          "name": "stdout",
          "text": [
            "Training completed for epoch 5\n",
            "Training accuracy for epoch 5: 56.38%\n",
            "Training time for this epoch: 200.88 seconds\n",
            "Validation started for epoch 5\n"
          ]
        },
        {
          "output_type": "stream",
          "name": "stderr",
          "text": [
            "100%|██████████| 50/50 [00:01<00:00, 40.62it/s]\n"
          ]
        },
        {
          "output_type": "stream",
          "name": "stdout",
          "text": [
            "Validation completed for epoch 5\n",
            "Validation accuracy for epoch 5: 50.12%\n",
            "Validation time for this epoch: 1.23 seconds\n",
            "Training started for epoch 6\n"
          ]
        },
        {
          "output_type": "stream",
          "name": "stderr",
          "text": [
            "100%|██████████| 250/250 [03:20<00:00,  1.25it/s]\n"
          ]
        },
        {
          "output_type": "stream",
          "name": "stdout",
          "text": [
            "Training completed for epoch 6\n",
            "Training accuracy for epoch 6: 60.34%\n",
            "Training time for this epoch: 200.54 seconds\n",
            "Validation started for epoch 6\n"
          ]
        },
        {
          "output_type": "stream",
          "name": "stderr",
          "text": [
            "100%|██████████| 50/50 [00:00<00:00, 52.88it/s]\n"
          ]
        },
        {
          "output_type": "stream",
          "name": "stdout",
          "text": [
            "Validation completed for epoch 6\n",
            "Validation accuracy for epoch 6: 57.25%\n",
            "Validation time for this epoch: 0.95 seconds\n",
            "Training started for epoch 7\n"
          ]
        },
        {
          "output_type": "stream",
          "name": "stderr",
          "text": [
            "100%|██████████| 250/250 [03:20<00:00,  1.25it/s]\n"
          ]
        },
        {
          "output_type": "stream",
          "name": "stdout",
          "text": [
            "Training completed for epoch 7\n",
            "Training accuracy for epoch 7: 62.26%\n",
            "Training time for this epoch: 200.18 seconds\n",
            "Validation started for epoch 7\n"
          ]
        },
        {
          "output_type": "stream",
          "name": "stderr",
          "text": [
            "100%|██████████| 50/50 [00:00<00:00, 51.93it/s]\n"
          ]
        },
        {
          "output_type": "stream",
          "name": "stdout",
          "text": [
            "Validation completed for epoch 7\n",
            "Validation accuracy for epoch 7: 57.38%\n",
            "Validation time for this epoch: 0.97 seconds\n",
            "Training started for epoch 8\n"
          ]
        },
        {
          "output_type": "stream",
          "name": "stderr",
          "text": [
            "100%|██████████| 250/250 [03:23<00:00,  1.23it/s]\n"
          ]
        },
        {
          "output_type": "stream",
          "name": "stdout",
          "text": [
            "Training completed for epoch 8\n",
            "Training accuracy for epoch 8: 64.55%\n",
            "Training time for this epoch: 203.22 seconds\n",
            "Validation started for epoch 8\n"
          ]
        },
        {
          "output_type": "stream",
          "name": "stderr",
          "text": [
            "100%|██████████| 50/50 [00:01<00:00, 42.75it/s]\n"
          ]
        },
        {
          "output_type": "stream",
          "name": "stdout",
          "text": [
            "Validation completed for epoch 8\n",
            "Validation accuracy for epoch 8: 55.62%\n",
            "Validation time for this epoch: 1.17 seconds\n",
            "Training started for epoch 9\n"
          ]
        },
        {
          "output_type": "stream",
          "name": "stderr",
          "text": [
            "100%|██████████| 250/250 [03:23<00:00,  1.23it/s]\n"
          ]
        },
        {
          "output_type": "stream",
          "name": "stdout",
          "text": [
            "Training completed for epoch 9\n",
            "Training accuracy for epoch 9: 67.92%\n",
            "Training time for this epoch: 203.40 seconds\n",
            "Validation started for epoch 9\n"
          ]
        },
        {
          "output_type": "stream",
          "name": "stderr",
          "text": [
            "100%|██████████| 50/50 [00:00<00:00, 51.35it/s]\n"
          ]
        },
        {
          "output_type": "stream",
          "name": "stdout",
          "text": [
            "Validation completed for epoch 9\n",
            "Validation accuracy for epoch 9: 60.25%\n",
            "Validation time for this epoch: 0.98 seconds\n",
            "Training started for epoch 10\n"
          ]
        },
        {
          "output_type": "stream",
          "name": "stderr",
          "text": [
            "100%|██████████| 250/250 [03:24<00:00,  1.22it/s]\n"
          ]
        },
        {
          "output_type": "stream",
          "name": "stdout",
          "text": [
            "Training completed for epoch 10\n",
            "Training accuracy for epoch 10: 69.38%\n",
            "Training time for this epoch: 204.20 seconds\n",
            "Validation started for epoch 10\n"
          ]
        },
        {
          "output_type": "stream",
          "name": "stderr",
          "text": [
            "100%|██████████| 50/50 [00:00<00:00, 50.73it/s]\n"
          ]
        },
        {
          "output_type": "stream",
          "name": "stdout",
          "text": [
            "Validation completed for epoch 10\n",
            "Validation accuracy for epoch 10: 57.38%\n",
            "Validation time for this epoch: 0.99 seconds\n",
            "Training started for epoch 11\n"
          ]
        },
        {
          "output_type": "stream",
          "name": "stderr",
          "text": [
            "100%|██████████| 250/250 [03:23<00:00,  1.23it/s]\n"
          ]
        },
        {
          "output_type": "stream",
          "name": "stdout",
          "text": [
            "Training completed for epoch 11\n",
            "Training accuracy for epoch 11: 72.74%\n",
            "Training time for this epoch: 203.75 seconds\n",
            "Validation started for epoch 11\n"
          ]
        },
        {
          "output_type": "stream",
          "name": "stderr",
          "text": [
            "100%|██████████| 50/50 [00:01<00:00, 49.23it/s]\n"
          ]
        },
        {
          "output_type": "stream",
          "name": "stdout",
          "text": [
            "Validation completed for epoch 11\n",
            "Validation accuracy for epoch 11: 59.88%\n",
            "Validation time for this epoch: 1.02 seconds\n",
            "Training started for epoch 12\n"
          ]
        },
        {
          "output_type": "stream",
          "name": "stderr",
          "text": [
            "100%|██████████| 250/250 [03:24<00:00,  1.23it/s]\n"
          ]
        },
        {
          "output_type": "stream",
          "name": "stdout",
          "text": [
            "Training completed for epoch 12\n",
            "Training accuracy for epoch 12: 75.11%\n",
            "Training time for this epoch: 204.05 seconds\n",
            "Validation started for epoch 12\n"
          ]
        },
        {
          "output_type": "stream",
          "name": "stderr",
          "text": [
            "100%|██████████| 50/50 [00:01<00:00, 40.12it/s]\n"
          ]
        },
        {
          "output_type": "stream",
          "name": "stdout",
          "text": [
            "Validation completed for epoch 12\n",
            "Validation accuracy for epoch 12: 52.50%\n",
            "Validation time for this epoch: 1.25 seconds\n",
            "Training started for epoch 13\n"
          ]
        },
        {
          "output_type": "stream",
          "name": "stderr",
          "text": [
            "100%|██████████| 250/250 [03:25<00:00,  1.22it/s]\n"
          ]
        },
        {
          "output_type": "stream",
          "name": "stdout",
          "text": [
            "Training completed for epoch 13\n",
            "Training accuracy for epoch 13: 77.79%\n",
            "Training time for this epoch: 205.33 seconds\n",
            "Validation started for epoch 13\n"
          ]
        },
        {
          "output_type": "stream",
          "name": "stderr",
          "text": [
            "100%|██████████| 50/50 [00:01<00:00, 49.01it/s]\n"
          ]
        },
        {
          "output_type": "stream",
          "name": "stdout",
          "text": [
            "Validation completed for epoch 13\n",
            "Validation accuracy for epoch 13: 59.75%\n",
            "Validation time for this epoch: 1.03 seconds\n",
            "Training started for epoch 14\n"
          ]
        },
        {
          "output_type": "stream",
          "name": "stderr",
          "text": [
            "100%|██████████| 250/250 [03:24<00:00,  1.22it/s]\n"
          ]
        },
        {
          "output_type": "stream",
          "name": "stdout",
          "text": [
            "Training completed for epoch 14\n",
            "Training accuracy for epoch 14: 79.05%\n",
            "Training time for this epoch: 204.93 seconds\n",
            "Validation started for epoch 14\n"
          ]
        },
        {
          "output_type": "stream",
          "name": "stderr",
          "text": [
            "100%|██████████| 50/50 [00:00<00:00, 53.59it/s]\n"
          ]
        },
        {
          "output_type": "stream",
          "name": "stdout",
          "text": [
            "Validation completed for epoch 14\n",
            "Validation accuracy for epoch 14: 52.25%\n",
            "Validation time for this epoch: 0.94 seconds\n",
            "Training started for epoch 15\n"
          ]
        },
        {
          "output_type": "stream",
          "name": "stderr",
          "text": [
            "100%|██████████| 250/250 [03:24<00:00,  1.22it/s]\n"
          ]
        },
        {
          "output_type": "stream",
          "name": "stdout",
          "text": [
            "Training completed for epoch 15\n",
            "Training accuracy for epoch 15: 81.24%\n",
            "Training time for this epoch: 204.84 seconds\n",
            "Validation started for epoch 15\n"
          ]
        },
        {
          "output_type": "stream",
          "name": "stderr",
          "text": [
            "100%|██████████| 50/50 [00:00<00:00, 51.64it/s]"
          ]
        },
        {
          "output_type": "stream",
          "name": "stdout",
          "text": [
            "Validation completed for epoch 15\n",
            "Validation accuracy for epoch 15: 61.62%\n",
            "Validation time for this epoch: 0.98 seconds\n"
          ]
        },
        {
          "output_type": "stream",
          "name": "stderr",
          "text": [
            "\n"
          ]
        }
      ]
    },
    {
      "cell_type": "code",
      "source": [
        "#Epoch is set to 15 using improved FFNN. However the model tend to overfit\n",
        "\n",
        "def load_test_data(test_data):\n",
        "    with open(test_data) as test_f:\n",
        "        test = json.load(test_f)\n",
        "    test_data = [(elt[\"text\"].split(), int(elt[\"stars\"]-1)) for elt in test]\n",
        "    return test_data\n",
        "\n",
        "# Assuming Args class is defined as before\n",
        "args = Args()\n",
        "\n",
        "# Load and process test data\n",
        "test_data = load_test_data(args.test_data)\n",
        "test_data = convert_to_vector_representation(test_data, word2index)\n",
        "\n",
        "# Testing\n",
        "model.eval()\n",
        "total_correct, total = 0, 0\n",
        "print(\"Testing started\")\n",
        "for input_vector, gold_label in test_data:\n",
        "    input_vector = input_vector.float().unsqueeze(0)  # Adjusting for batch dimension\n",
        "    predicted_vector = model(input_vector)\n",
        "    predicted_label = torch.argmax(predicted_vector)\n",
        "    total_correct += int(predicted_label == gold_label)\n",
        "    total += 1\n",
        "\n",
        "test_accuracy = (total_correct / total)*100\n",
        "print(f\"Testing Accuracy: {test_accuracy:.2f}%\")\n",
        "\n"
      ],
      "metadata": {
        "colab": {
          "base_uri": "https://localhost:8080/"
        },
        "id": "Z37L_WNWObfc",
        "outputId": "eb0e59ec-12cf-4ace-a5a7-370d1ef393b6"
      },
      "execution_count": null,
      "outputs": [
        {
          "output_type": "stream",
          "name": "stdout",
          "text": [
            "Testing started\n",
            "Testing Accuracy: 46.00%\n"
          ]
        }
      ]
    },
    {
      "cell_type": "code",
      "source": [],
      "metadata": {
        "id": "o1tQwIk4Oeeq"
      },
      "execution_count": null,
      "outputs": []
    }
  ],
  "metadata": {
    "colab": {
      "provenance": [],
      "machine_shape": "hm",
      "gpuType": "V100",
      "include_colab_link": true
    },
    "kernelspec": {
      "display_name": "Python 3",
      "name": "python3"
    },
    "language_info": {
      "name": "python"
    },
    "accelerator": "GPU"
  },
  "nbformat": 4,
  "nbformat_minor": 0
}