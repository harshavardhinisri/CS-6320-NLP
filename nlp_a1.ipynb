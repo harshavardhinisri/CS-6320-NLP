{
  "nbformat": 4,
  "nbformat_minor": 0,
  "metadata": {
    "colab": {
      "provenance": [],
      "include_colab_link": true
    },
    "kernelspec": {
      "name": "python3",
      "display_name": "Python 3"
    },
    "language_info": {
      "name": "python"
    }
  },
  "cells": [
    {
      "cell_type": "markdown",
      "metadata": {
        "id": "view-in-github",
        "colab_type": "text"
      },
      "source": [
        "<a href=\"https://colab.research.google.com/github/harshavardhinisri/CS-6320-NLP/blob/main/nlp_a1.ipynb\" target=\"_parent\"><img src=\"https://colab.research.google.com/assets/colab-badge.svg\" alt=\"Open In Colab\"/></a>"
      ]
    },
    {
      "cell_type": "code",
      "execution_count": null,
      "metadata": {
        "colab": {
          "base_uri": "https://localhost:8080/"
        },
        "id": "eqcEaIM51Fuu",
        "outputId": "3c157d5f-b55f-4e76-a170-e06b4d4aa02f"
      },
      "outputs": [
        {
          "output_type": "stream",
          "name": "stdout",
          "text": [
            "Archive:  A1_DATASET.zip\n",
            "   creating: A1_DATASET/\n",
            "  inflating: A1_DATASET/.DS_Store    \n",
            "  inflating: __MACOSX/A1_DATASET/._.DS_Store  \n",
            "  inflating: A1_DATASET/train.txt    \n",
            "  inflating: __MACOSX/A1_DATASET/._train.txt  \n",
            "  inflating: A1_DATASET/val.txt      \n",
            "  inflating: __MACOSX/A1_DATASET/._val.txt  \n"
          ]
        }
      ],
      "source": [
        "!unzip A1_DATASET.zip"
      ]
    },
    {
      "cell_type": "code",
      "source": [
        "!head A1_DATASET/train.txt"
      ],
      "metadata": {
        "colab": {
          "base_uri": "https://localhost:8080/"
        },
        "id": "gvoslR0E5IwU",
        "outputId": "6dccf0fe-e401-4eab-891a-c6371c8c78ad"
      },
      "execution_count": null,
      "outputs": [
        {
          "output_type": "stream",
          "name": "stdout",
          "text": [
            "I booked two rooms four months in advance at the Talbott . We were placed on the top floor next to the elevators , which are used all night long . When speaking to the front desk , I was told that they were simply honoring my request for an upper floor , which I had requested for a better view . I am looking at a brick wall , and getting no sleep . He also told me that they had received complaints before from guests on the 16th floor , and were aware of the noise problem . Why then did they place us on this floor when the hotel is not totally booked ? A request for an upper floor does not constitute placing someone on the TOP floor and using that request to justify this . If you decide to stay here , request a room on a lower floor and away from the elevator ! I spoke at length when booking my two rooms about my preferences . This is simply poor treatment of a guest whom they believed would not complain .\n",
            "I LOVED this hotel . The room was so chic and trendy , the bed was comfortable , great slippers and robes . I love the Keihl 's bath products in the bathroom . We went during my birthday weekend , and they had a card and plate with pastries waiting in the room . We got a great deal on a junior suite from Travelzoo , but when we tried to take another trip to Chicago , the deal was gone . I really recommend the hotel . I LOVED it . The ONLY problem we had was with the David Burke Steakhouse . The service was horrible , they switched our order with the table next to our 's and the only compensation was they took off a $ 7 side dish we ordered ( and they were nice enough to NOT charge us for the other side dish we DID N'T get ) . DO N'T go there . Go to the Lawry 's accross the street . But stay at the James . ( BTW- its not a 3-star hotel like the website lists- its at least 4-star )\n",
            "The Hard Rock Hotel Chicago has become my favorite hotel . I 've stayed there at least 5 times now and have never had anything other than a wonderful experience . As you might have guessed - it has a super Rock & Roll theme , with some music paraphanelia in the lobby and on each floor 's elevator lobby . The rooms all have large photo murals that are themed to different musicians . You can request being on the floor of your favorite band ( like KISS , Aerosmith , etc ... ) The rooms are GREAT . Well appointed . SUPER Comfortable beds and luxurious sheets and wonderous pillows . The large TV has a cool sound system that ramps up the viewing experience . There 's a spacious desk in each room with a mini bar . I 've always had a room with big windows and a view down Michigan Ave ( the hotel sits right on Michigan - a block from the canal ) . The bathrooms are furnished with absolutely great fixtures sporting a great design ... some of the showers have windows in side of them ( you can shower AND enjoy the view down Michigan ! ) or close the waterproof drapes . I 've never had anything but a great experience with the staff here ... front desk , doorman , etc are all great . There 's a lobby bar that still feels intimate and has nice energy . Big screen TV to catch the latest scores , too . Of course , Rock & Roll music pumps thru the place . You can stay at a `` plain '' hotel anywhere ... but this is a GREAT , WELL DESIGNED , FUN and MEMORABLE HOTEL that you 'll want to return back to . If I had one concern - it would be the rather crazy charge for parking your car overnight . My daily car parking rate was close to $ 50 per night , which I 'm sorry to say is about the going rate in the loop . Stay here . Be cool .\n",
            "We also just returned from a frigid weekend in Chicago . I booked the Ambassador East because of its great rate , $ 89.00 with my AAA card and we were delighted . Yes , the rooms show some signs of wear , but the warmth and charm far make up for it . This was such a pleasant change from the sleek , modern look of many other chain and boutique hotels . We became members of the I preferred program and were therefore eligible for an upgrade which we automatically got upon check in . We had a lovely suite with lots of sitting room and a comfortable bedroom and bathroom . We had wonderful food at the Pump Room which is classic . Our oatmeal there was so tastefully served , I 'd love to have some right now ! The location was great . Had it been normal winter weather , we could have easily walked to Michigan Avenue for shopping , but due to the minus 20 degree windchills , we opted for a cab which was less than a $ 5.00 fare . We also enjoyed a glass of wine around the fireplace in the lobby and found it so welcoming and cozy and not overcrowed at all . We would definitely stay here again !\n",
            "I can easily say this is one of the worst hotels I 've stayed at the . The receptionist up front was a snooty , sarcastic teenager or post teenager . You can get better service from a waiter or waitress at a diner . The room was dirty , stains on the carpet , the showerhead was moldy and rusted , the doors of the bathroom and main door all had dents and scratches . The towels had a horrible aroma . The hotel is very narrow , so we were near a construction zone so , I would plan on waking up at 6 : am if you choose the Talbott . The next day , I asked for another room and the concierge who was a decent guy moved us to a larger more comfortable room . That room though was right by the elevator and it was torture hearing the sounds of the elevator which just would never stop . I asked for late checkout at 1pm and the receptionist refused stating that we would be charged for a half day , if were not out by noon . I had to speak to the manager who gave us till 1pm . Please stay away from this hotel , I think a Holiday Inn would be better . Andrew F. Gulli\n",
            "My wife and I came to spend the weekend in downtown Chicago for shopping and we found this Conrad hotel well located close to everything downtown and of a size that does n't make you feel lost in the Convention world . We have had this feeling when staying at larger hotels in the past . Our Suite has view on Michigan avenue with a bit of the Lake at the end . Staff was very professional , pleasant and friendly making us feel very comfortable . Internet is free n the rooms and I am making my review from there .\n",
            "We arrived and thought for $ 350 a night , it would be a decent place . Good reviews , etc ... We arrived to find that the website pictures were misleading . The hotel lounge was a `` room '' , it was really odd and very dark . The first night there I noticed that the blanket on the bed was nasty looking . Resembled something you 'd find on a street . To top it all off we woke up after night # 2 to find that bed bugs had attacked us . My husband and I were both bitten . I was bitten WAY more than my husband . My legs were covered with bites . I was on ointments and Benadryl for over a week . I immediately came home and scalded all our clothes . There was also mold around the tub both inside it and on the floor by it . The bathroom floor was also curling up by the tub . The view in room # 607 is of a roof . Not good . The stay was VERY disappointing . The only good thing there is the free breakfast on every floor .\n",
            "Recently returned from a two-night stay at Ambassador East Hotel . Was looking for a comfortable hotel to stay at while visiting family now located in Chicago . Mission was accomplished . If you would like a quiet , comfortable hotel in a great area - this is it . While some of the furnishings show some signs of their age , it does not detract from the elegant style of the rooms and adds to the comfortable and home-like feeling . Found staff to be friendly and helpful . We will be return guests many times in the future for sure .\n",
            "After Leaving some important documents in the room , I called and asked for the lost and found department ... SEVEN TIMES over the course of a week . Eventually I had enough and asked for a manager and was put on hold then disconnected . Finally , a deceivingly friendly operator PROMISED me she would have someone call me back in a few minutes , It never happened . So Avoid this place because after they rip you off once they 'll keep doing it later . They can not be trusted at their word\n",
            "WARNING : FOOD POISONING ALERT ! ! ! The room was dirty , the shower had mold and the handle in the shower my daughter cracked her head open on . The elevators were absolutly terrible they made me dizzy every time i went on it . They hade pasta night and they put out a bowl of noodles and sauce and i couple of rolls well you get what you pay for . What was worse is the sauce must of had bad meat in it because my family got so sick . The one thing that was nice was the location which was right by michigan avenue . The second night we left and went to another hotel which was 80 bucks cheaper and 100 times nicer . DO NOT STAY HERE\n"
          ]
        }
      ]
    },
    {
      "cell_type": "code",
      "source": [
        "!head A1_DATASET/val.txt"
      ],
      "metadata": {
        "colab": {
          "base_uri": "https://localhost:8080/"
        },
        "id": "hpow-iJchZ1f",
        "outputId": "4f4c48e5-0da6-42c7-a20d-5f1cc778f252"
      },
      "execution_count": null,
      "outputs": [
        {
          "output_type": "stream",
          "name": "stdout",
          "text": [
            "I stayed for four nights while attending a conference . The hotel is in a great spot - easy walk to Michigan Ave shopping or Rush St. , but just off the busy streets . The room I had was spacious , and very well-appointed . The staff was friendly , and the fitness center , while not huge , was well-equipped and clean . I 've stayed at a number of hotels in Chicago , and this one is my favorite . Internet was n't free , but at $ 10 for 24 hours is cheaper than most business hotels , and it worked very well .\n",
            "we love the location and proximity to everything . The staff was very friendly and courteous . They were so nice to our 2.5 year old boy . got his backpack full of goodies the moment we arrived . We got free wifi and morning drinks by signing up for select guest program . Ca n't beat that ! the only minor issue is the elevator . we have to take 2 separate elevator trips to get to our room . It got a little annoying when we were going in and out often . Otherwise , it was a great stay !\n",
            "I want to issue a travel-warning to folks who might sign up for the weekend deal they offer through travelzoo from time to time : The deal says `` free breakfast '' included in the price . However , what they do n't tell you , is that the breakfast consists of a cup of coffee and a bisquit ( or two ) ! Moreover , you need to ask for these `` tickets '' at the lobby when you check in - they wo n't give them to you automatically ! We stayed there over Christmas '03 , and we , and I noticed several guests who bought the same package , had a rather unpleasant experience ! The hotel is nice though , if you do n't consider their lousy service !\n",
            "Just got back from three nights at the Knickerbocker . Went up to Chicago for some last minute Christmas shopping . Hotel is in a great location . North end of Michigan Ave. about half a block away . Staff was very nice and professional . Everyone we came in contact with was very helpful . Granted this is a older hotel and some of the rooms are no bigger than closets . We were booked into a standard room and when we arrived we upgraded to a deluxe room . Good size room , with nice furnishings and a comfortable bed . Bathroom was somewhat small . Housekeeping did a great job cleaning the room every day . Did not eat at the restaurant Nix , but saw several people getting orders delivered to the bar . Overheard comments saying the food was very good . Drink service at the Martini Bar can be slow . Martinis run $ 9 and up . Very good drinks and they do n't shy away from the liquor . Valet parking was $ 35 a day with in/out priviliges . Overall a great stay . Would definately stay at this hotel in the future .\n",
            "My family and I stayed at this hotel during an extended weekend trip in July , 08 . We had ( 3 ) 1 bedroom suites . Great Location in downtown Chicago . Within walking distance to shopping and most downtown tourist attractions . The service was excellent and the hotel staff was friendly . The breakfast buffet was very good but the eating area can get crowded . I recommend going early . The rooms were quiet and clean . I highly recommend this hotel for families and for travelers staying > 2-3 days . We would stay here again . Parking is expensive , about $ 28/day . It is valet . The cheapest self parking I could find in the area was $ 24/days so we did valet parking . The valet and bell staff were very helpful and friendly . This is my 3rd experience with Homewood Suites ( 3 different cities ) . I have had a great experience each time .\n",
            "i valeted my lexus and it was returned with a smashed side mirror . They admitted it was their fault , and now they wo n't pay the $ 500 to fix it because we ca n't prove it was not broken before ! ! ! the hotel is wonderful , the rooms are new and nice , but we will never stay here again because of this ... .Be sure to inspect your car before you leave !\n",
            "great expectations from the hotel of THE FUGITIVE ! Wonderful lobby ! AND THAT 'S IT ! The room was old in style and furnitures , the tv was from the other century , no minibar , no wireless internet , no wireless adapter enough for the number of the room , those guys ignore that we are in the era of IPAD without cable connections . small room , small bathroom , rude service room . they have lost my credit card number and want CASH ON DELIVERY for a breakfast of 20 dollars . Robbery in the business center , 0,59 cents a MINUTE for internet connection , you have to pay to use word , or excel . NEVER AGAIN !\n",
            "Named my price on priceline . $ 50.00 Bucks . Hotel room was great . Clean , Clean and new . Fresh crisp sheets , comfortable bed , flat screen TV , clean carpet , nice bath , etc . Short distance to food and sightseeing . I highly recommend this property . Be prepared to pay over $ 40.00 per night to park . Hey , Its a hyatt . They also charge $ 5.00 for a bottle of water that is normally a buck . For a total of $ 100.00 nightly stay in Chicago this place is it just do n't drink the bottled water . Happy Travels\n",
            "I never write these reviews , but felt that it was important to state that this hotel should not be the # 1 2008 travelers choice . Terrible Service , Lazy Doormen/bellmen/concierge/valet , Lack of Respect , allow dogs to bark all morning after multiple complaints , Phantom charges to room , front dest at checkout and checkin were pompus . The icing on the cake was me watching the doormen stand and watch while a father tried to open a door to push his stroller through with his infant son , and the doorman watched on doing nothing . Me and my girlfriend are young , look young in how we dress , but in all honesty make more money than most ... and we were treated like cheap poor kids . I had dinner reservations at Spaiggia and wanted to order a car to pick us up , the concierge exclaimed that , `` You know its not jeans and running shoes right Mr . Blank ? '' Assuming I was too dumb to realize that a 5 star $ 200/person restraunt wont allow tennis shoes because I am young ? Very Dissapointed . Very nice looking , comfortable beds , great room service , contemporary , younger crowd , but service was terrible .\n",
            "My husband and I stayed here for three nights while visiting Chicago as tourists . What a beautiful hotel ! Our room was lovely , the staff was super helpful and the location was convenient . They do n't have an in house gym , but each day you can get a day pass to a cushy gym down the street . The restaurant in the hotel has a very yummy breakfast . The concierge helped us to make dinner reservations at the last minute our first night there . We were able to walk down the Magnificent Mile from our hotel , as well as through the Gold Coast and Old Towne neighborhoods . There are tons of great restaurants in the area ( including the famous Gibsons and the Signature Room in the Hancock tower ) as well as lots of shopping . There is currently a lot of construction going on near the Talbott ( they are building condos right behind it ) , but regardless we had a wonderful stay and would definitely stay there again when visiting Chicago .\n"
          ]
        }
      ]
    },
    {
      "cell_type": "markdown",
      "source": [
        "**Unigram and Bigram without smoothening**"
      ],
      "metadata": {
        "id": "uwcmvhj-s8YI"
      }
    },
    {
      "cell_type": "code",
      "source": [
        "import string\n",
        "import nltk\n",
        "from nltk.corpus import stopwords\n",
        "from nltk.stem import PorterStemmer\n",
        "import string\n",
        "from collections import Counter\n",
        "nltk.download('stopwords')\n",
        "\n",
        "def preprocess(text):\n",
        "  text = text.lower()\n",
        "  translator = str.maketrans('', '', string.punctuation)\n",
        "  text = text.translate(translator)\n",
        "  tokens = text.split()\n",
        "  tokens = [token for token in tokens if not token.isdigit()]\n",
        "  stemmer = PorterStemmer()\n",
        "  tokens = [stemmer.stem(word) for word in tokens]\n",
        "  return tokens"
      ],
      "metadata": {
        "colab": {
          "base_uri": "https://localhost:8080/"
        },
        "id": "pAu01H5ddcSm",
        "outputId": "b83755f3-6dcf-4c49-a4b1-8842fd1ca18e"
      },
      "execution_count": null,
      "outputs": [
        {
          "output_type": "stream",
          "name": "stderr",
          "text": [
            "[nltk_data] Downloading package stopwords to /root/nltk_data...\n",
            "[nltk_data]   Package stopwords is already up-to-date!\n"
          ]
        }
      ]
    },
    {
      "cell_type": "code",
      "source": [
        "def calculate_unigram_counts(sentences):\n",
        "    unigram_counts = Counter()\n",
        "\n",
        "    for sentence in sentences:\n",
        "        for token in sentence:\n",
        "            unigram_counts[token] += 1\n",
        "\n",
        "    return unigram_counts\n",
        "\n",
        "def calculate_bigram_counts(sentences):\n",
        "    bigram_counts = Counter()\n",
        "\n",
        "    for sentence in sentences:\n",
        "        for i in range(len(sentence) - 1):\n",
        "            bigram = (sentence[i], sentence[i + 1])\n",
        "            bigram_counts[bigram] += 1\n",
        "\n",
        "    return bigram_counts"
      ],
      "metadata": {
        "id": "EDdn9epyB7qG"
      },
      "execution_count": null,
      "outputs": []
    },
    {
      "cell_type": "code",
      "source": [
        "def train_ngram_model(filename):\n",
        "    with open(filename, 'r') as file:\n",
        "        lines = file.readlines()\n",
        "\n",
        "    sentences = [preprocess(line) for line in lines]\n",
        "\n",
        "    unigram_counts = calculate_unigram_counts(sentences)\n",
        "    bigram_counts = calculate_bigram_counts(sentences)\n",
        "\n",
        "    total_unigrams = sum(unigram_counts.values())\n",
        "\n",
        "    unigram_probs = {token: count / total_unigrams for token, count in unigram_counts.items()}\n",
        "    bigram_probs = {(w1, w2): count / unigram_counts[w1] for (w1, w2), count in bigram_counts.items()}\n",
        "\n",
        "    return unigram_probs, bigram_probs\n",
        "\n",
        "filename = \"A1_DATASET/train.txt\"\n",
        "unigram_probs, bigram_probs = train_ngram_model(filename)"
      ],
      "metadata": {
        "id": "yU1XJQNo7Mli"
      },
      "execution_count": null,
      "outputs": []
    },
    {
      "cell_type": "code",
      "source": [
        "import math\n",
        "\n",
        "def compute_perplexity_unigram(sentences, unigram_probs):\n",
        "    N = sum([len(sentence) for sentence in sentences])\n",
        "    log_prob = sum([math.log(unigram_probs.get(word, 1e-10)) for sentence in sentences for word in sentence])\n",
        "    return math.exp(-log_prob/N)\n",
        "\n",
        "def compute_perplexity_bigram(sentences, unigram_counts, bigram_probs):\n",
        "    N = sum([len(sentence) for sentence in sentences]) - len(sentences)\n",
        "    total_log_prob = 0\n",
        "    for sentence in sentences:\n",
        "        for i in range(1, len(sentence)):\n",
        "            bigram = (sentence[i-1], sentence[i])\n",
        "            bigram_prob = bigram_probs.get(bigram, (1 / len(unigram_counts)))\n",
        "            total_log_prob += math.log(bigram_prob)\n",
        "    return math.exp(-total_log_prob/N)\n"
      ],
      "metadata": {
        "id": "wueDKotD7Ya2"
      },
      "execution_count": null,
      "outputs": []
    },
    {
      "cell_type": "code",
      "source": [
        "# Preprocess the data\n",
        "with open(\"A1_DATASET/train.txt\", 'r') as file:\n",
        "    dev_lines = file.readlines()\n",
        "sentences_dev = [preprocess(line) for line in dev_lines]\n",
        "\n",
        "# Compute perplexities\n",
        "unigram_counts = calculate_unigram_counts(sentences_dev)\n",
        "perplexity_unigram = compute_perplexity_unigram(sentences_dev, unigram_probs)\n",
        "perplexity_bigram = compute_perplexity_bigram(sentences_dev, unigram_counts, bigram_probs)\n",
        "\n",
        "print(f\"Unigram Perplexity without smoothening for train.txt: {perplexity_unigram}\")\n",
        "print(f\"Bigram Perplexity without smoothening for train.txt: {perplexity_bigram}\")"
      ],
      "metadata": {
        "colab": {
          "base_uri": "https://localhost:8080/"
        },
        "id": "g6zEgtnjq0lr",
        "outputId": "b660b3cd-5fe7-423d-ed13-31b90b851a89"
      },
      "execution_count": null,
      "outputs": [
        {
          "output_type": "stream",
          "name": "stdout",
          "text": [
            "Unigram Perplexity without smoothening for train.txt: 420.36173656451945\n",
            "Bigram Perplexity without smoothening for train.txt: 33.692191237035296\n"
          ]
        }
      ]
    },
    {
      "cell_type": "code",
      "source": [
        "# Preprocess the data\n",
        "with open(\"A1_DATASET/val.txt\", 'r') as file:\n",
        "    dev_lines = file.readlines()\n",
        "sentences_dev = [preprocess(line) for line in dev_lines]\n",
        "\n",
        "# Compute perplexities\n",
        "unigram_counts = calculate_unigram_counts(sentences_dev)\n",
        "perplexity_unigram = compute_perplexity_unigram(sentences_dev, unigram_probs)\n",
        "perplexity_bigram = compute_perplexity_bigram(sentences_dev, unigram_counts, bigram_probs)\n",
        "\n",
        "print(f\"Unigram Perplexity without smoothening for val.txt: {perplexity_unigram}\")\n",
        "print(f\"Bigram Perplexity without smoothening for val.txt: {perplexity_bigram}\")"
      ],
      "metadata": {
        "colab": {
          "base_uri": "https://localhost:8080/"
        },
        "id": "IfWEXLn7kNwh",
        "outputId": "70686b24-5562-4f38-f75d-3ee9a51719f5"
      },
      "execution_count": null,
      "outputs": [
        {
          "output_type": "stream",
          "name": "stdout",
          "text": [
            "Unigram Perplexity without smoothening for val.txt: 560.434232044935\n",
            "Bigram Perplexity without smoothening for val.txt: 110.84972416063393\n"
          ]
        }
      ]
    },
    {
      "cell_type": "markdown",
      "source": [
        "**Unigram and Bigram with K-smoothening and Laplace smootheing**"
      ],
      "metadata": {
        "id": "669_mydFtJrG"
      }
    },
    {
      "cell_type": "code",
      "source": [
        "def handle_oov(sentences):\n",
        "    all_words = [word for sentence in sentences for word in sentence]\n",
        "    word_freq = Counter(all_words)\n",
        "\n",
        "    sentences_with_oov = []\n",
        "    for sentence in sentences:\n",
        "        new_sentence = [word if word_freq[word] > 1 else '<OOV>' for word in sentence]\n",
        "        sentences_with_oov.append(new_sentence)\n",
        "\n",
        "    return sentences_with_oov"
      ],
      "metadata": {
        "id": "r8a_q8_InqGW"
      },
      "execution_count": null,
      "outputs": []
    },
    {
      "cell_type": "code",
      "source": [
        "def train_ngram_model(filename,k):\n",
        "    with open(filename, 'r') as file:\n",
        "        lines = file.readlines()\n",
        "\n",
        "    sentences = [preprocess(line) for line in lines]\n",
        "\n",
        "    sentences = handle_oov(sentences)\n",
        "\n",
        "    unigram_counts = calculate_unigram_counts(sentences)\n",
        "    bigram_counts = calculate_bigram_counts(sentences)\n",
        "\n",
        "    total_unigrams = sum(unigram_counts.values())\n",
        "    V = len(unigram_counts)\n",
        "\n",
        "\n",
        "    unigram_probs = {token: (count + k) / (total_unigrams + k*V) for token, count in unigram_counts.items()}\n",
        "    bigram_probs = {(w1, w2): (count + k) / (unigram_counts[w1] + k*V) for (w1, w2), count in bigram_counts.items()}\n",
        "\n",
        "    return unigram_probs, bigram_probs, V"
      ],
      "metadata": {
        "id": "BDn0xF2dnqIw"
      },
      "execution_count": null,
      "outputs": []
    },
    {
      "cell_type": "code",
      "source": [
        "filename = \"A1_DATASET/train.txt\"\n",
        "unigram_probs_laplace, bigram_probs_laplace, V = train_ngram_model(filename,1)\n",
        "unigram_probs_kSmooth, bigram_probs_kSmooth, V = train_ngram_model(filename,.01)\n",
        "unigram_probs_kSmooth_0_5, bigram_probs_kSmooth_0_5, V = train_ngram_model(filename,.5)"
      ],
      "metadata": {
        "id": "5iAeEZy3nqLW"
      },
      "execution_count": null,
      "outputs": []
    },
    {
      "cell_type": "code",
      "source": [
        "def compute_perplexity_unigram(sentences, unigram_probs):\n",
        "  N = sum([len(sentence) for sentence in sentences])\n",
        "  log_prob = sum([math.log(unigram_probs.get(word, 1e-10)) for sentence in sentences for word in sentence])\n",
        "  return math.exp(-log_prob/N)\n",
        "\n",
        "\n",
        "def compute_perplexity_bigram(sentences, unigram_probs, bigram_probs, V):\n",
        "    N = sum([len(sentence) for sentence in sentences]) - len(sentences)\n",
        "    total_log_prob = 0\n",
        "    for sentence in sentences:\n",
        "        for i in range(1, len(sentence)):\n",
        "            bigram = (sentence[i-1], sentence[i])\n",
        "            if bigram in bigram_probs:\n",
        "                bigram_prob = bigram_probs[bigram]\n",
        "            else:\n",
        "                bigram_prob = 1 / (unigram_probs.get(bigram[0], 1/V) * V)\n",
        "            total_log_prob += math.log(bigram_prob)\n",
        "    return math.exp(-total_log_prob/N)"
      ],
      "metadata": {
        "id": "2Y_qh7YHd0-D"
      },
      "execution_count": null,
      "outputs": []
    },
    {
      "cell_type": "code",
      "source": [
        "with open(\"A1_DATASET/train.txt\", 'r') as file:\n",
        "    dev_lines = file.readlines()\n",
        "\n",
        "sentences_dev = [preprocess(line) for line in dev_lines]\n",
        "sentences_dev = handle_oov(sentences_dev)\n",
        "\n",
        "perplexity_unigram_laplace = compute_perplexity_unigram(sentences_dev, unigram_probs_laplace)\n",
        "perplexity_bigram_laplace = compute_perplexity_bigram(sentences_dev, unigram_probs_laplace, bigram_probs_laplace, V)\n",
        "\n",
        "perplexity_unigram_kSmooth_0_5 = compute_perplexity_unigram(sentences_dev, unigram_probs_kSmooth_0_5)\n",
        "perplexity_bigram_kSmooth_0_5 = compute_perplexity_bigram(sentences_dev, unigram_probs_kSmooth_0_5, bigram_probs_kSmooth_0_5, V)\n",
        "\n",
        "perplexity_unigram_kSmooth = compute_perplexity_unigram(sentences_dev, unigram_probs_kSmooth)\n",
        "perplexity_bigram_kSmooth = compute_perplexity_bigram(sentences_dev, unigram_probs_kSmooth, bigram_probs_kSmooth, V)\n",
        "\n",
        "print(f\"Unigram Perplexity laplace on train.txt: {perplexity_unigram_laplace}\")\n",
        "print(f\"Bigram Perplexity laplace on train.txt: {perplexity_bigram_laplace}\")\n",
        "print(\"\\t\")\n",
        "print(f\"Unigram Perplexity kSmooth on train.txt(k=0.5): {perplexity_unigram_kSmooth_0_5}\")\n",
        "print(f\"Bigram Perplexity kSmooth on train.txt(k=0.5): {perplexity_bigram_kSmooth_0_5}\")\n",
        "print(\"\\t\")\n",
        "print(f\"Unigram Perplexity kSmooth on train.txt(k=0.01): {perplexity_unigram_kSmooth}\")\n",
        "print(f\"Bigram Perplexity kSmooth on train.txt(k=0.01): {perplexity_bigram_kSmooth}\")"
      ],
      "metadata": {
        "colab": {
          "base_uri": "https://localhost:8080/"
        },
        "id": "y-MPWukirGd5",
        "outputId": "94d197d0-248f-4150-e322-a914caa153e3"
      },
      "execution_count": null,
      "outputs": [
        {
          "output_type": "stream",
          "name": "stdout",
          "text": [
            "Unigram Perplexity laplace on train.txt: 346.0462261577903\n",
            "Bigram Perplexity laplace on train.txt: 371.8889027045345\n",
            "\t\n",
            "Unigram Perplexity kSmooth on train.txt(k=0.5): 345.43397304414805\n",
            "Bigram Perplexity kSmooth on train.txt(k=0.5): 249.8801101947774\n",
            "\t\n",
            "Unigram Perplexity kSmooth on train.txt(k=0.01): 345.19665996944235\n",
            "Bigram Perplexity kSmooth on train.txt(k=0.01): 50.445198314513355\n"
          ]
        }
      ]
    },
    {
      "cell_type": "code",
      "source": [
        "with open(\"A1_DATASET/val.txt\", 'r') as file:\n",
        "    dev_lines = file.readlines()\n",
        "\n",
        "sentences_dev = [preprocess(line) for line in dev_lines]\n",
        "sentences_dev = handle_oov(sentences_dev)\n",
        "\n",
        "perplexity_unigram_laplace = compute_perplexity_unigram(sentences_dev, unigram_probs_laplace)\n",
        "perplexity_bigram_laplace = compute_perplexity_bigram(sentences_dev, unigram_probs_laplace, bigram_probs_laplace, V)\n",
        "\n",
        "perplexity_unigram_kSmooth_0_5 = compute_perplexity_unigram(sentences_dev, unigram_probs_kSmooth_0_5)\n",
        "perplexity_bigram_kSmooth_0_5 = compute_perplexity_bigram(sentences_dev, unigram_probs_kSmooth_0_5, bigram_probs_kSmooth_0_5, V)\n",
        "\n",
        "perplexity_unigram_kSmooth = compute_perplexity_unigram(sentences_dev, unigram_probs_kSmooth)\n",
        "perplexity_bigram_kSmooth = compute_perplexity_bigram(sentences_dev, unigram_probs_kSmooth, bigram_probs_kSmooth, V)\n",
        "\n",
        "print(f\"Unigram Perplexity laplace: {perplexity_unigram_laplace}\")\n",
        "print(f\"Bigram Perplexity laplace: {perplexity_bigram_laplace}\")\n",
        "print(\"\\t\")\n",
        "print(f\"Unigram Perplexity kSmooth(k=0.5): {perplexity_unigram_kSmooth_0_5}\")\n",
        "print(f\"Bigram Perplexity kSmooth(k=0.5): {perplexity_bigram_kSmooth_0_5}\")\n",
        "print(\"\\t\")\n",
        "print(f\"Unigram Perplexity kSmooth(k=0.01): {perplexity_unigram_kSmooth}\")\n",
        "print(f\"Bigram Perplexity kSmooth(k=0.01): {perplexity_bigram_kSmooth}\")"
      ],
      "metadata": {
        "id": "o6U8Fw5y5lrP",
        "colab": {
          "base_uri": "https://localhost:8080/"
        },
        "outputId": "909e5062-12d2-472d-dffb-0ae385e6882b"
      },
      "execution_count": null,
      "outputs": [
        {
          "output_type": "stream",
          "name": "stdout",
          "text": [
            "Unigram Perplexity laplace: 265.08981067825454\n",
            "Bigram Perplexity laplace: 87.0437813873405\n",
            "\t\n",
            "Unigram Perplexity kSmooth(k=0.5): 263.02813268951223\n",
            "Bigram Perplexity kSmooth(k=0.5): 63.633267615398\n",
            "\t\n",
            "Unigram Perplexity kSmooth(k=0.01): 261.0735540525644\n",
            "Bigram Perplexity kSmooth(k=0.01): 23.665885352161315\n"
          ]
        }
      ]
    },
    {
      "cell_type": "code",
      "source": [],
      "metadata": {
        "id": "CxWqw3sGrNlF"
      },
      "execution_count": null,
      "outputs": []
    }
  ]
}